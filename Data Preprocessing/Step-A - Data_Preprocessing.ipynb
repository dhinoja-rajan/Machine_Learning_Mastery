{
  "cells": [
    {
      "cell_type": "markdown",
      "metadata": {
        "id": "view-in-github",
        "colab_type": "text"
      },
      "source": [
        "<a href=\"https://colab.research.google.com/github/rajan-dhinoja/AI_ML_Course/blob/main/Part-1%20-%20Data%20Preprocessing/Step-A%20-%20Data_Preprocessing.ipynb\" target=\"_parent\"><img src=\"https://colab.research.google.com/assets/colab-badge.svg\" alt=\"Open In Colab\"/></a>"
      ]
    },
    {
      "cell_type": "markdown",
      "metadata": {
        "id": "HvALcJ3yAryu"
      },
      "source": [
        "# ***Step-A: Data Preprocessing:-***"
      ]
    },
    {
      "cell_type": "markdown",
      "metadata": {
        "id": "LbMfPnCfAryw"
      },
      "source": [
        "## Step-1: Import Required Dependencies:-\n",
        "Import essential libraries and modules for data manipulation, visualization, and preprocessing..."
      ]
    },
    {
      "cell_type": "code",
      "execution_count": 1,
      "metadata": {
        "id": "MmgVQ5oeAryx"
      },
      "outputs": [],
      "source": [
        "import numpy as np\n",
        "import matplotlib.pyplot as plt\n",
        "import pandas as pd\n",
        "import seaborn as sns\n",
        "import scipy.sparse\n",
        "import nltk\n",
        "import warnings\n",
        "warnings.filterwarnings('ignore')\n",
        "\n",
        "# Set the option to prevent silent downcasting\n",
        "np.set_printoptions(formatter={'float': '{:,.2f}'.format}, suppress=True, precision=2)\n",
        "pd.options.display.float_format = '{:,.2f}'.format\n",
        "pd.set_option('future.no_silent_downcasting', True)"
      ]
    },
    {
      "cell_type": "code",
      "source": [
        "%%javascript\n",
        "IPython.notebook.set_autosave_interval(10000)  // Auto-save every 10 seconds"
      ],
      "metadata": {
        "id": "WK7a1ZDw9H3Z",
        "outputId": "066c0742-65a2-4703-a9d2-d8f9f89cd00d",
        "colab": {
          "base_uri": "https://localhost:8080/",
          "height": 17
        }
      },
      "execution_count": 2,
      "outputs": [
        {
          "output_type": "display_data",
          "data": {
            "text/plain": [
              "<IPython.core.display.Javascript object>"
            ],
            "application/javascript": [
              "IPython.notebook.set_autosave_interval(10000)  // Auto-save every 10 seconds\n"
            ]
          },
          "metadata": {}
        }
      ]
    },
    {
      "cell_type": "markdown",
      "metadata": {
        "id": "yVRL8v08Aryx"
      },
      "source": [
        "## Step-2: Load the Dataset and Display Different overviews of Datasets:-"
      ]
    },
    {
      "cell_type": "code",
      "execution_count": 3,
      "metadata": {
        "colab": {
          "base_uri": "https://localhost:8080/",
          "height": 224
        },
        "id": "xBtYmKrSAryy",
        "outputId": "3788ab1f-c58d-4e98-d7e5-e8394b23bbe1"
      },
      "outputs": [
        {
          "output_type": "stream",
          "name": "stdout",
          "text": [
            "Drive already mounted at /content/drive; to attempt to forcibly remount, call drive.mount(\"/content/drive\", force_remount=True).\n"
          ]
        },
        {
          "output_type": "execute_result",
          "data": {
            "text/plain": [
              "   YearsExperience    Salary\n",
              "0             1.10 39,343.00\n",
              "1             1.30 46,205.00\n",
              "2             1.50 37,731.00\n",
              "3             2.00 43,525.00\n",
              "4             2.20 39,891.00"
            ],
            "text/html": [
              "\n",
              "  <div id=\"df-245f26f3-ea18-4e9f-9988-5d336d2b2ab9\" class=\"colab-df-container\">\n",
              "    <div>\n",
              "<style scoped>\n",
              "    .dataframe tbody tr th:only-of-type {\n",
              "        vertical-align: middle;\n",
              "    }\n",
              "\n",
              "    .dataframe tbody tr th {\n",
              "        vertical-align: top;\n",
              "    }\n",
              "\n",
              "    .dataframe thead th {\n",
              "        text-align: right;\n",
              "    }\n",
              "</style>\n",
              "<table border=\"1\" class=\"dataframe\">\n",
              "  <thead>\n",
              "    <tr style=\"text-align: right;\">\n",
              "      <th></th>\n",
              "      <th>YearsExperience</th>\n",
              "      <th>Salary</th>\n",
              "    </tr>\n",
              "  </thead>\n",
              "  <tbody>\n",
              "    <tr>\n",
              "      <th>0</th>\n",
              "      <td>1.10</td>\n",
              "      <td>39,343.00</td>\n",
              "    </tr>\n",
              "    <tr>\n",
              "      <th>1</th>\n",
              "      <td>1.30</td>\n",
              "      <td>46,205.00</td>\n",
              "    </tr>\n",
              "    <tr>\n",
              "      <th>2</th>\n",
              "      <td>1.50</td>\n",
              "      <td>37,731.00</td>\n",
              "    </tr>\n",
              "    <tr>\n",
              "      <th>3</th>\n",
              "      <td>2.00</td>\n",
              "      <td>43,525.00</td>\n",
              "    </tr>\n",
              "    <tr>\n",
              "      <th>4</th>\n",
              "      <td>2.20</td>\n",
              "      <td>39,891.00</td>\n",
              "    </tr>\n",
              "  </tbody>\n",
              "</table>\n",
              "</div>\n",
              "    <div class=\"colab-df-buttons\">\n",
              "\n",
              "  <div class=\"colab-df-container\">\n",
              "    <button class=\"colab-df-convert\" onclick=\"convertToInteractive('df-245f26f3-ea18-4e9f-9988-5d336d2b2ab9')\"\n",
              "            title=\"Convert this dataframe to an interactive table.\"\n",
              "            style=\"display:none;\">\n",
              "\n",
              "  <svg xmlns=\"http://www.w3.org/2000/svg\" height=\"24px\" viewBox=\"0 -960 960 960\">\n",
              "    <path d=\"M120-120v-720h720v720H120Zm60-500h600v-160H180v160Zm220 220h160v-160H400v160Zm0 220h160v-160H400v160ZM180-400h160v-160H180v160Zm440 0h160v-160H620v160ZM180-180h160v-160H180v160Zm440 0h160v-160H620v160Z\"/>\n",
              "  </svg>\n",
              "    </button>\n",
              "\n",
              "  <style>\n",
              "    .colab-df-container {\n",
              "      display:flex;\n",
              "      gap: 12px;\n",
              "    }\n",
              "\n",
              "    .colab-df-convert {\n",
              "      background-color: #E8F0FE;\n",
              "      border: none;\n",
              "      border-radius: 50%;\n",
              "      cursor: pointer;\n",
              "      display: none;\n",
              "      fill: #1967D2;\n",
              "      height: 32px;\n",
              "      padding: 0 0 0 0;\n",
              "      width: 32px;\n",
              "    }\n",
              "\n",
              "    .colab-df-convert:hover {\n",
              "      background-color: #E2EBFA;\n",
              "      box-shadow: 0px 1px 2px rgba(60, 64, 67, 0.3), 0px 1px 3px 1px rgba(60, 64, 67, 0.15);\n",
              "      fill: #174EA6;\n",
              "    }\n",
              "\n",
              "    .colab-df-buttons div {\n",
              "      margin-bottom: 4px;\n",
              "    }\n",
              "\n",
              "    [theme=dark] .colab-df-convert {\n",
              "      background-color: #3B4455;\n",
              "      fill: #D2E3FC;\n",
              "    }\n",
              "\n",
              "    [theme=dark] .colab-df-convert:hover {\n",
              "      background-color: #434B5C;\n",
              "      box-shadow: 0px 1px 3px 1px rgba(0, 0, 0, 0.15);\n",
              "      filter: drop-shadow(0px 1px 2px rgba(0, 0, 0, 0.3));\n",
              "      fill: #FFFFFF;\n",
              "    }\n",
              "  </style>\n",
              "\n",
              "    <script>\n",
              "      const buttonEl =\n",
              "        document.querySelector('#df-245f26f3-ea18-4e9f-9988-5d336d2b2ab9 button.colab-df-convert');\n",
              "      buttonEl.style.display =\n",
              "        google.colab.kernel.accessAllowed ? 'block' : 'none';\n",
              "\n",
              "      async function convertToInteractive(key) {\n",
              "        const element = document.querySelector('#df-245f26f3-ea18-4e9f-9988-5d336d2b2ab9');\n",
              "        const dataTable =\n",
              "          await google.colab.kernel.invokeFunction('convertToInteractive',\n",
              "                                                    [key], {});\n",
              "        if (!dataTable) return;\n",
              "\n",
              "        const docLinkHtml = 'Like what you see? Visit the ' +\n",
              "          '<a target=\"_blank\" href=https://colab.research.google.com/notebooks/data_table.ipynb>data table notebook</a>'\n",
              "          + ' to learn more about interactive tables.';\n",
              "        element.innerHTML = '';\n",
              "        dataTable['output_type'] = 'display_data';\n",
              "        await google.colab.output.renderOutput(dataTable, element);\n",
              "        const docLink = document.createElement('div');\n",
              "        docLink.innerHTML = docLinkHtml;\n",
              "        element.appendChild(docLink);\n",
              "      }\n",
              "    </script>\n",
              "  </div>\n",
              "\n",
              "\n",
              "<div id=\"df-c9ffb62c-3636-41d5-a901-5790dea44b6e\">\n",
              "  <button class=\"colab-df-quickchart\" onclick=\"quickchart('df-c9ffb62c-3636-41d5-a901-5790dea44b6e')\"\n",
              "            title=\"Suggest charts\"\n",
              "            style=\"display:none;\">\n",
              "\n",
              "<svg xmlns=\"http://www.w3.org/2000/svg\" height=\"24px\"viewBox=\"0 0 24 24\"\n",
              "     width=\"24px\">\n",
              "    <g>\n",
              "        <path d=\"M19 3H5c-1.1 0-2 .9-2 2v14c0 1.1.9 2 2 2h14c1.1 0 2-.9 2-2V5c0-1.1-.9-2-2-2zM9 17H7v-7h2v7zm4 0h-2V7h2v10zm4 0h-2v-4h2v4z\"/>\n",
              "    </g>\n",
              "</svg>\n",
              "  </button>\n",
              "\n",
              "<style>\n",
              "  .colab-df-quickchart {\n",
              "      --bg-color: #E8F0FE;\n",
              "      --fill-color: #1967D2;\n",
              "      --hover-bg-color: #E2EBFA;\n",
              "      --hover-fill-color: #174EA6;\n",
              "      --disabled-fill-color: #AAA;\n",
              "      --disabled-bg-color: #DDD;\n",
              "  }\n",
              "\n",
              "  [theme=dark] .colab-df-quickchart {\n",
              "      --bg-color: #3B4455;\n",
              "      --fill-color: #D2E3FC;\n",
              "      --hover-bg-color: #434B5C;\n",
              "      --hover-fill-color: #FFFFFF;\n",
              "      --disabled-bg-color: #3B4455;\n",
              "      --disabled-fill-color: #666;\n",
              "  }\n",
              "\n",
              "  .colab-df-quickchart {\n",
              "    background-color: var(--bg-color);\n",
              "    border: none;\n",
              "    border-radius: 50%;\n",
              "    cursor: pointer;\n",
              "    display: none;\n",
              "    fill: var(--fill-color);\n",
              "    height: 32px;\n",
              "    padding: 0;\n",
              "    width: 32px;\n",
              "  }\n",
              "\n",
              "  .colab-df-quickchart:hover {\n",
              "    background-color: var(--hover-bg-color);\n",
              "    box-shadow: 0 1px 2px rgba(60, 64, 67, 0.3), 0 1px 3px 1px rgba(60, 64, 67, 0.15);\n",
              "    fill: var(--button-hover-fill-color);\n",
              "  }\n",
              "\n",
              "  .colab-df-quickchart-complete:disabled,\n",
              "  .colab-df-quickchart-complete:disabled:hover {\n",
              "    background-color: var(--disabled-bg-color);\n",
              "    fill: var(--disabled-fill-color);\n",
              "    box-shadow: none;\n",
              "  }\n",
              "\n",
              "  .colab-df-spinner {\n",
              "    border: 2px solid var(--fill-color);\n",
              "    border-color: transparent;\n",
              "    border-bottom-color: var(--fill-color);\n",
              "    animation:\n",
              "      spin 1s steps(1) infinite;\n",
              "  }\n",
              "\n",
              "  @keyframes spin {\n",
              "    0% {\n",
              "      border-color: transparent;\n",
              "      border-bottom-color: var(--fill-color);\n",
              "      border-left-color: var(--fill-color);\n",
              "    }\n",
              "    20% {\n",
              "      border-color: transparent;\n",
              "      border-left-color: var(--fill-color);\n",
              "      border-top-color: var(--fill-color);\n",
              "    }\n",
              "    30% {\n",
              "      border-color: transparent;\n",
              "      border-left-color: var(--fill-color);\n",
              "      border-top-color: var(--fill-color);\n",
              "      border-right-color: var(--fill-color);\n",
              "    }\n",
              "    40% {\n",
              "      border-color: transparent;\n",
              "      border-right-color: var(--fill-color);\n",
              "      border-top-color: var(--fill-color);\n",
              "    }\n",
              "    60% {\n",
              "      border-color: transparent;\n",
              "      border-right-color: var(--fill-color);\n",
              "    }\n",
              "    80% {\n",
              "      border-color: transparent;\n",
              "      border-right-color: var(--fill-color);\n",
              "      border-bottom-color: var(--fill-color);\n",
              "    }\n",
              "    90% {\n",
              "      border-color: transparent;\n",
              "      border-bottom-color: var(--fill-color);\n",
              "    }\n",
              "  }\n",
              "</style>\n",
              "\n",
              "  <script>\n",
              "    async function quickchart(key) {\n",
              "      const quickchartButtonEl =\n",
              "        document.querySelector('#' + key + ' button');\n",
              "      quickchartButtonEl.disabled = true;  // To prevent multiple clicks.\n",
              "      quickchartButtonEl.classList.add('colab-df-spinner');\n",
              "      try {\n",
              "        const charts = await google.colab.kernel.invokeFunction(\n",
              "            'suggestCharts', [key], {});\n",
              "      } catch (error) {\n",
              "        console.error('Error during call to suggestCharts:', error);\n",
              "      }\n",
              "      quickchartButtonEl.classList.remove('colab-df-spinner');\n",
              "      quickchartButtonEl.classList.add('colab-df-quickchart-complete');\n",
              "    }\n",
              "    (() => {\n",
              "      let quickchartButtonEl =\n",
              "        document.querySelector('#df-c9ffb62c-3636-41d5-a901-5790dea44b6e button');\n",
              "      quickchartButtonEl.style.display =\n",
              "        google.colab.kernel.accessAllowed ? 'block' : 'none';\n",
              "    })();\n",
              "  </script>\n",
              "</div>\n",
              "\n",
              "    </div>\n",
              "  </div>\n"
            ],
            "application/vnd.google.colaboratory.intrinsic+json": {
              "type": "dataframe",
              "variable_name": "dataset",
              "summary": "{\n  \"name\": \"dataset\",\n  \"rows\": 30,\n  \"fields\": [\n    {\n      \"column\": \"YearsExperience\",\n      \"properties\": {\n        \"dtype\": \"number\",\n        \"std\": 2.8378881576627184,\n        \"min\": 1.1,\n        \"max\": 10.5,\n        \"num_unique_values\": 28,\n        \"samples\": [\n          3.9,\n          9.6,\n          3.7\n        ],\n        \"semantic_type\": \"\",\n        \"description\": \"\"\n      }\n    },\n    {\n      \"column\": \"Salary\",\n      \"properties\": {\n        \"dtype\": \"number\",\n        \"std\": 27414.4297845823,\n        \"min\": 37731.0,\n        \"max\": 122391.0,\n        \"num_unique_values\": 30,\n        \"samples\": [\n          112635.0,\n          67938.0,\n          113812.0\n        ],\n        \"semantic_type\": \"\",\n        \"description\": \"\"\n      }\n    }\n  ]\n}"
            }
          },
          "metadata": {},
          "execution_count": 3
        }
      ],
      "source": [
        "from google.colab import drive\n",
        "drive.mount('/content/drive')\n",
        "\n",
        "dataset = pd.DataFrame(pd.read_csv('/content/drive/MyDrive/Datasets/salary_data.csv'))\n",
        "dataset.head()"
      ]
    },
    {
      "cell_type": "code",
      "execution_count": 4,
      "metadata": {
        "colab": {
          "base_uri": "https://localhost:8080/"
        },
        "id": "zcZDaNI0I-4g",
        "outputId": "6bb195d4-6f57-4e6c-af45-a48998b4750a"
      },
      "outputs": [
        {
          "output_type": "stream",
          "name": "stdout",
          "text": [
            "No Categorical Columns Found...\n",
            "Numerical Columns: \n",
            " Index(['YearsExperience', 'Salary'], dtype='object')\n"
          ]
        }
      ],
      "source": [
        "# Seperate the whole datset into categorical and numerical columns...\n",
        "\n",
        "categorical_cols = dataset.select_dtypes(include=['object']).columns\n",
        "numerical_cols = dataset.select_dtypes(exclude=['object']).columns\n",
        "\n",
        "if categorical_cols.empty:\n",
        "  print(\"No Categorical Columns Found...\")\n",
        "else:\n",
        "  print(\"Categorical Columns: \\n\", categorical_cols, \"\\n\")\n",
        "\n",
        "if numerical_cols.empty:\n",
        "  print(\"No Numerical Columns Found...\")\n",
        "else:\n",
        "  print(\"Numerical Columns: \\n\", numerical_cols)"
      ]
    },
    {
      "cell_type": "code",
      "execution_count": 5,
      "metadata": {
        "colab": {
          "base_uri": "https://localhost:8080/"
        },
        "collapsed": true,
        "id": "ZW3HjieQAry2",
        "outputId": "5ea1367b-8d8d-4574-c971-e93b0bd3da35"
      },
      "outputs": [
        {
          "output_type": "stream",
          "name": "stdout",
          "text": [
            "> Shape of the Dataset: \n",
            " (30, 2) \n",
            "\n",
            "> Information about Dataset:\n",
            "<class 'pandas.core.frame.DataFrame'>\n",
            "RangeIndex: 30 entries, 0 to 29\n",
            "Data columns (total 2 columns):\n",
            " #   Column           Non-Null Count  Dtype  \n",
            "---  ------           --------------  -----  \n",
            " 0   YearsExperience  30 non-null     float64\n",
            " 1   Salary           30 non-null     float64\n",
            "dtypes: float64(2)\n",
            "memory usage: 612.0 bytes\n",
            "None \n",
            "\n",
            "> Statistical summary of the Dataset:\n",
            "       YearsExperience     Salary\n",
            "count            30.00      30.00\n",
            "mean              5.31  76,003.00\n",
            "std               2.84  27,414.43\n",
            "min               1.10  37,731.00\n",
            "25%               3.20  56,720.75\n",
            "50%               4.70  65,237.00\n",
            "75%               7.70 100,544.75\n",
            "max              10.50 122,391.00\n"
          ]
        }
      ],
      "source": [
        "print(\"> Shape of the Dataset: \\n\", dataset.shape, \"\\n\")\n",
        "print(\"> Information about Dataset:\")\n",
        "print(dataset.info(), \"\\n\")\n",
        "print(\"> Statistical summary of the Dataset:\")\n",
        "print(dataset.describe().map(lambda x: round(x, 4)))"
      ]
    },
    {
      "cell_type": "code",
      "execution_count": 6,
      "metadata": {
        "colab": {
          "base_uri": "https://localhost:8080/",
          "height": 564
        },
        "id": "Q5P2M-1WPDVh",
        "outputId": "2e83229c-a316-4865-d2e2-8f28641eb5d2"
      },
      "outputs": [
        {
          "output_type": "display_data",
          "data": {
            "text/plain": [
              "<Figure size 1000x600 with 1 Axes>"
            ],
            "image/png": "[encoded data removed]"
          },
          "metadata": {}
        }
      ],
      "source": [
        "plt.figure(figsize=(10, 6))\n",
        "sns.distplot(dataset.iloc[:, -1], bins=30, kde=True)\n",
        "plt.title('Distribution of Last Column')\n",
        "plt.show()"
      ]
    },
    {
      "cell_type": "code",
      "execution_count": 7,
      "metadata": {
        "colab": {
          "base_uri": "https://localhost:8080/",
          "height": 472
        },
        "id": "_z7mUwRhXBoc",
        "outputId": "f04cd5bf-9909-4716-8a50-ed44dda248fc"
      },
      "outputs": [
        {
          "output_type": "display_data",
          "data": {
            "text/plain": [
              "<Figure size 640x480 with 1 Axes>"
            ],
            "image/png": "[encoded data removed]"
          },
          "metadata": {}
        }
      ],
      "source": [
        "# Plot target distribution\n",
        "sns.histplot(dataset.iloc[:, -1], bins=30, kde=True)\n",
        "plt.title('Distribution of Last Column')\n",
        "plt.show()"
      ]
    },
    {
      "cell_type": "code",
      "execution_count": 8,
      "metadata": {
        "colab": {
          "base_uri": "https://localhost:8080/",
          "height": 493
        },
        "id": "5bMrljUcI9zR",
        "outputId": "9d5b2626-e533-421b-b5b6-d4235b48ba9a"
      },
      "outputs": [
        {
          "output_type": "display_data",
          "data": {
            "text/plain": [
              "<Figure size 640x480 with 2 Axes>"
            ],
            "image/png": "[encoded data removed]"
          },
          "metadata": {}
        }
      ],
      "source": [
        "# Correlation Matrix Heatmap\n",
        "sns.heatmap(dataset[numerical_cols].corr(), annot=True, cmap='coolwarm')\n",
        "plt.title('Correlation Matrix \\n',fontsize=20,  fontweight=800)\n",
        "plt.show()"
      ]
    },
    {
      "cell_type": "code",
      "execution_count": 9,
      "metadata": {
        "id": "0jDYyh8VCPKE"
      },
      "outputs": [],
      "source": [
        "# # Boxplot for OutletType vs OutletSales\n",
        "# plt.figure(figsize=(10, 6))\n",
        "# sns.boxplot(x='OutletType', y='OutletSales', data=dataset)\n",
        "# plt.xticks(rotation=45)\n",
        "# plt.title('OutletType vs OutletSales')\n",
        "# plt.show()"
      ]
    },
    {
      "cell_type": "markdown",
      "metadata": {
        "id": "e0E0usXBAry4"
      },
      "source": [
        "## Step-3:- Checking the Dataset:-"
      ]
    },
    {
      "cell_type": "markdown",
      "metadata": {
        "id": "PSX5IX9RAry5"
      },
      "source": [
        "### Step-3.1: Checking any Duplicate Data and Handling them:-"
      ]
    },
    {
      "cell_type": "code",
      "execution_count": 10,
      "metadata": {
        "colab": {
          "base_uri": "https://localhost:8080/"
        },
        "id": "XzvdrZlWAry5",
        "outputId": "7962e987-3b55-4fd9-be61-0c3291b8acda"
      },
      "outputs": [
        {
          "output_type": "stream",
          "name": "stdout",
          "text": [
            "No Duplicate Data(or Identical Rows) found...\n"
          ]
        }
      ],
      "source": [
        "if dataset.duplicated().any():\n",
        "  dataset.drop_duplicates(inplace=True)\n",
        "  print(\"Duplicate Data(or Identical Rows) found and Removed...\")\n",
        "else:\n",
        "    print(\"No Duplicate Data(or Identical Rows) found...\")"
      ]
    },
    {
      "cell_type": "markdown",
      "metadata": {
        "id": "FKBEjTdDAry6"
      },
      "source": [
        "### Step-3.2: Cheking any Missing Data and Handling them:-"
      ]
    },
    {
      "cell_type": "code",
      "execution_count": 11,
      "metadata": {
        "colab": {
          "base_uri": "https://localhost:8080/"
        },
        "id": "vg_Slpg2Ary7",
        "outputId": "8580038b-43f4-4875-b1d0-1fe442aa2928"
      },
      "outputs": [
        {
          "output_type": "stream",
          "name": "stdout",
          "text": [
            "No missing data found.\n"
          ]
        }
      ],
      "source": [
        "# Here from the module named impute of the library scikit-learn, we are using the SimpleImputer Class to Handle the Missing Values.\n",
        "from sklearn.impute import SimpleImputer\n",
        "\n",
        "missing_data_counts = dataset.isnull().sum() + dataset.isin(['', 'N/A', 'Unknown', 'NaN']).sum()\n",
        "\n",
        "# if dataset.isnull().values.any() or dataset.isin(['', 'NaN', 'N/A', 'Unknown']).any().any():\n",
        "if missing_data_counts.any():\n",
        "\n",
        "  categorical_missing_counts = dataset[categorical_cols].isnull().sum() + dataset[categorical_cols].isin(['', 'N/A', 'Unknown', 'NaN']).sum()\n",
        "  numerical_missing_counts = dataset[numerical_cols].isnull().sum()\n",
        "\n",
        "  # Replace \"Unknown\" with NaN in categorical columns\n",
        "  for col in categorical_cols:\n",
        "    dataset[col] = dataset[col].replace('Unknown', np.nan)\n",
        "\n",
        "\n",
        "  # Check if there are any missing values (categorical or numerical)\n",
        "  if categorical_missing_counts.any() or numerical_missing_counts.any():\n",
        "      # Print missing counts for categorical columns in the desired format\n",
        "      print(\"Missing Data Counts in Categorical Columns: \\n\", categorical_missing_counts)\n",
        "      print(\"\\n\")\n",
        "      print(\"Missing Data Counts in Numerical Columns: \\n\", numerical_missing_counts)\n",
        "\n",
        "      # Create imputers for categorical and numerical features\n",
        "      categorical_imputer = SimpleImputer(missing_values=np.nan, strategy='most_frequent')\n",
        "      numerical_imputer = SimpleImputer(missing_values=np.nan, strategy='mean')\n",
        "\n",
        "      # Apply imputers to the selected columns in X\n",
        "      if len(categorical_cols) > 0:\n",
        "        categorical_cols_for_impution = [col for col in categorical_cols if col != dataset.columns[-1]]\n",
        "        dataset[categorical_cols_for_impution] = categorical_imputer.fit_transform(dataset[categorical_cols_for_impution])\n",
        "\n",
        "      # Exclude the dependent variable column (last column) if it's numerical\n",
        "      numerical_cols_for_impution = [col for col in numerical_cols if col != dataset.columns[-1]]\n",
        "      if len(numerical_cols_for_impution) > 0:\n",
        "          dataset[numerical_cols_for_impution] = numerical_imputer.fit_transform(dataset[numerical_cols_for_impution])\n",
        "      # if len(numerical_cols) > 0:\n",
        "          # dataset[numerical_cols] = numerical_imputer.fit_transform(dataset[numerical_cols])\n",
        "\n",
        "      print(\"\\n\")\n",
        "      print(\"New Data with replaced missing values: \\n\", dataset.head(10).to_string(header=True))\n",
        "else:\n",
        "    print(\"No missing data found.\")\n",
        "\n"
      ]
    },
    {
      "cell_type": "markdown",
      "metadata": {
        "id": "-F0V-G0-Ary8"
      },
      "source": [
        "### Step-3.3: Checking any Synonyms or Aliases and Handling them:-"
      ]
    },
    {
      "cell_type": "code",
      "execution_count": 12,
      "metadata": {
        "colab": {
          "base_uri": "https://localhost:8080/"
        },
        "id": "rJwxtUSyAry8",
        "outputId": "a5a4ad67-2224-46bd-dd25-6c437d9650b7"
      },
      "outputs": [
        {
          "output_type": "stream",
          "name": "stdout",
          "text": [
            "Column: \t'YearsExperience'\n",
            "Unique Values:  3.20 4.00 1.10 5.30 10.30 9.60 9.50 9.00 8.70 8.20 7.90 7.10 6.80 6.00 5.90 5.10 1.30 4.90 4.50 4.10 3.90 3.70 3.00 2.90 2.20 2.00 1.50 10.50\n",
            "Counts:         2.00 2.00 1.00 1.00  1.00 1.00 1.00 1.00 1.00 1.00 1.00 1.00 1.00 1.00 1.00 1.00 1.00 1.00 1.00 1.00 1.00 1.00 1.00 1.00 1.00 1.00 1.00  1.00 \n",
            "\n",
            "Column: \t'Salary'\n",
            "Unique Values:  39,343.00 46,205.00 122,391.00 112,635.00 116,969.00 105,582.00 109,431.00 113,812.00 101,302.00 98,273.00 91,738.00 93,940.00 81,363.00 83,088.00 66,029.00 67,938.00 61,111.00 57,081.00 56,957.00 55,794.00 63,218.00 57,189.00 64,445.00 54,445.00 60,150.00 56,642.00 39,891.00 43,525.00 37,731.00 121,872.00\n",
            "Counts:              1.00      1.00       1.00       1.00       1.00       1.00       1.00       1.00       1.00      1.00      1.00      1.00      1.00      1.00      1.00      1.00      1.00      1.00      1.00      1.00      1.00      1.00      1.00      1.00      1.00      1.00      1.00      1.00      1.00       1.00 \n",
            "\n"
          ]
        }
      ],
      "source": [
        "for col in dataset.columns:\n",
        "  # Get value counts and convert to DataFrame with column name\n",
        "  # .reset_index(name='Counts: '): This converts the Series into a DataFrame and names the count column as 'Counts: '.\n",
        "  value_counts_dataset = dataset[col].value_counts().rename_axis('Unique Values: ').reset_index(name='Counts: ')\n",
        "\n",
        "  # Transpose and print with formatting\n",
        "  print(f\"Column: \\t'{col}'\")\n",
        "  # .to_string(header=False): This converts the transposed DataFrame to a string for printing and removes the header row.\n",
        "  print(value_counts_dataset.T.to_string(header=False), \"\\n\")\n"
      ]
    },
    {
      "cell_type": "markdown",
      "metadata": {
        "id": "szLznVnf1W1h"
      },
      "source": [
        "### Step-3.4: Checking for Stopwords and Stemming them:-"
      ]
    },
    {
      "cell_type": "code",
      "execution_count": 13,
      "metadata": {
        "colab": {
          "base_uri": "https://localhost:8080/"
        },
        "id": "iMWNF_e5j0vb",
        "outputId": "6d0c23f8-aa4a-48e2-8615-e980b66564bf"
      },
      "outputs": [
        {
          "output_type": "stream",
          "name": "stdout",
          "text": [
            "No Stemming Needed...\n"
          ]
        }
      ],
      "source": [
        "from nltk.corpus import stopwords\n",
        "from nltk.stem.porter import PorterStemmer\n",
        "\n",
        "if categorical_cols.any():\n",
        "  nltk.download('stopwords')\n",
        "\n",
        "  stop_words = set(stopwords.words('english'))\n",
        "\n",
        "  stemmer = PorterStemmer()\n",
        "\n",
        "  def stemming(text):\n",
        "      words = text.lower().split()\n",
        "      stemmed_words = [stemmer.stem(word) for word in words if word not in stop_words]\n",
        "      return ' '.join(stemmed_words)  # Join stemmed words back into a string\n",
        "\n",
        "  # Apply the stemming function to the specified columns\n",
        "  for column in categorical_cols:\n",
        "      dataset[column] = dataset[column].astype(str).apply(stemming)\n",
        "\n",
        "  print(\"\\n > Stemming Completed... \\n\")\n",
        "  print(dataset.head().to_string(header=True))\n",
        "else:\n",
        "  print(\"No Stemming Needed...\")"
      ]
    },
    {
      "cell_type": "markdown",
      "metadata": {
        "id": "kluQwU4vAry9"
      },
      "source": [
        "### Step-3.5: Checking any Categorical Data and Encoding them:-"
      ]
    },
    {
      "cell_type": "code",
      "execution_count": 14,
      "metadata": {
        "colab": {
          "base_uri": "https://localhost:8080/"
        },
        "id": "iliWxO0n-9UQ",
        "outputId": "083d7802-586b-4e19-8701-08fcb2061aa2"
      },
      "outputs": [
        {
          "output_type": "stream",
          "name": "stdout",
          "text": [
            "=> Repeating Columns in Matrix of Features(X):  [] \n",
            "\n",
            "No Repeating Columns found in Matrix of Features(X). \n",
            "\n",
            "Matrix of Features(X): \n",
            "     YearsExperience\n",
            "0              1.10\n",
            "1              1.30\n",
            "2              1.50\n",
            "3              2.00\n",
            "4              2.20\n",
            "5              2.90\n",
            "6              3.00\n",
            "7              3.20\n",
            "8              3.20\n",
            "9              3.70\n",
            "10             3.90\n",
            "11             4.00\n",
            "12             4.00\n",
            "13             4.10\n",
            "14             4.50\n",
            "15             4.90\n",
            "16             5.10\n",
            "17             5.30\n",
            "18             5.90\n",
            "19             6.00\n",
            "20             6.80\n",
            "21             7.10\n",
            "22             7.90\n",
            "23             8.20\n",
            "24             8.70\n",
            "25             9.00\n",
            "26             9.50\n",
            "27             9.60\n",
            "28            10.30\n",
            "29            10.50\n",
            "\n",
            "\n",
            "Dependent Variable(y): \n",
            " [39,343.00 46,205.00 37,731.00 43,525.00 39,891.00 56,642.00 60,150.00\n",
            " 54,445.00 64,445.00 57,189.00 63,218.00 55,794.00 56,957.00 57,081.00\n",
            " 61,111.00 67,938.00 66,029.00 83,088.00 81,363.00 93,940.00 91,738.00\n",
            " 98,273.00 101,302.00 113,812.00 109,431.00 105,582.00 116,969.00\n",
            " 112,635.00 122,391.00 121,872.00]\n"
          ]
        }
      ],
      "source": [
        "# `sklearn.compose` is a module in scikit-learn (a popular Python machine learning library) used for combining different data transformations.\n",
        "# sklearn.preprocessing is a module within scikit-learn that provides tools for preparing your data for machine learning algorithms.\n",
        "# LabelEncoder is a specific class designed to convert categorical labels (like 'France', 'Spain', 'Germany') into numerical labels (like 0, 1, 2).\n",
        "from sklearn.compose import ColumnTransformer\n",
        "from sklearn.preprocessing import OneHotEncoder, LabelEncoder\n",
        "\n",
        "X = dataset.iloc[:, :-1]\n",
        "y = dataset.iloc[:, -1].values\n",
        "\n",
        "repeating_cols = []\n",
        "for col in categorical_cols:\n",
        "    # Matrix of Feature\n",
        "    if col != dataset.columns[-1]:\n",
        "      print(f\"> String Values present in Column '{col}'.\")\n",
        "      # Check for repeating values within the categorical column\n",
        "      value_counts = dataset[col].value_counts()\n",
        "      repeating_values = value_counts[value_counts > 1].index.tolist()\n",
        "      if repeating_values:\n",
        "        repeating_cols.append(col)\n",
        "        print(f\"\\t- Also, Categorical values found in column '{col}': {repeating_values}.\")\n",
        "        print(f\"\\t-'{col}' is Encoded Successfully...\\n\")\n",
        "\n",
        "      else:\n",
        "        print(f\"\\t- But No Categorical values found in column '{col}'.\\n\")\n",
        "\n",
        "    # Dependent Variable/Output\n",
        "    if col == dataset.columns[-1]:\n",
        "      print(f\"> String Values present in Column '{col}'(Output Column).\")\n",
        "      # Check for repeating values within the categorical column\n",
        "      value_counts = dataset[col].value_counts()\n",
        "      repeating_values = value_counts[value_counts > 1].index.tolist()\n",
        "      if repeating_values:\n",
        "        print(f\"\\t- Also, Categorical values found in column '{col}': {repeating_values}\")\n",
        "        le = LabelEncoder()\n",
        "        y = le.fit_transform(dataset[col])\n",
        "        print(f\"\\t-'{col}' is Encoded Successfully...\\n\")\n",
        "      else:\n",
        "        print(f\"\\t- But No Categorical values found in column '{col}'.\\n\")\n",
        "\n",
        "print(\"=> Repeating Columns in Matrix of Features(X): \", repeating_cols, \"\\n\")\n",
        "if repeating_cols:\n",
        "  encoder = ColumnTransformer(transformers=[('encoder', OneHotEncoder(), repeating_cols)], remainder='passthrough')\n",
        "  encoder_transform = encoder.fit_transform(X)\n",
        "\n",
        "  # Conditional conversion to dense array\n",
        "  if scipy.sparse.issparse(encoder_transform):  # Check if sparse\n",
        "    X = encoder_transform.toarray()\n",
        "  else:\n",
        "    X = encoder_transform\n",
        "\n",
        "else:\n",
        "  print(\"No Repeating Columns found in Matrix of Features(X). \\n\")\n",
        "\n",
        "print(\"Matrix of Features(X): \\n\", X)\n",
        "print(\"\\n\")\n",
        "print(\"Dependent Variable(y): \\n\", y)\n"
      ]
    },
    {
      "cell_type": "markdown",
      "metadata": {
        "id": "qb_vcgm3qZKW"
      },
      "source": [
        "## Step-4: Split the Dataset into the Training set and Test set:-"
      ]
    },
    {
      "cell_type": "code",
      "execution_count": 15,
      "metadata": {
        "colab": {
          "base_uri": "https://localhost:8080/"
        },
        "id": "4ML-zBGmBkeI",
        "outputId": "95ab26d5-0ec7-4819-96c1-7e2cbf76f4c8"
      },
      "outputs": [
        {
          "output_type": "stream",
          "name": "stdout",
          "text": [
            "Printing Training Sets: \n",
            "> X_train: \n",
            "     YearsExperience\n",
            "28            10.30\n",
            "24             8.70\n",
            "12             4.00\n",
            "0              1.10\n",
            "4              2.20\n",
            "16             5.10\n",
            "5              2.90\n",
            "13             4.10\n",
            "11             4.00\n",
            "22             7.90\n",
            "1              1.30\n",
            "2              1.50\n",
            "25             9.00\n",
            "3              2.00\n",
            "21             7.10\n",
            "26             9.50\n",
            "18             5.90\n",
            "29            10.50\n",
            "20             6.80\n",
            "7              3.20\n",
            "10             3.90\n",
            "14             4.50\n",
            "19             6.00\n",
            "6              3.00\n",
            "> X_test: \n",
            "     YearsExperience\n",
            "27             9.60\n",
            "15             4.90\n",
            "23             8.20\n",
            "17             5.30\n",
            "8              3.20\n",
            "9              3.70 \n",
            "\n",
            "\n",
            "\n",
            "Printing Test Sets: \n",
            "> y_train: \n",
            " [122,391.00 109,431.00 56,957.00 39,343.00 39,891.00 66,029.00 56,642.00\n",
            " 57,081.00 55,794.00 101,302.00 46,205.00 37,731.00 105,582.00 43,525.00\n",
            " 98,273.00 116,969.00 81,363.00 121,872.00 91,738.00 54,445.00 63,218.00\n",
            " 61,111.00 93,940.00 60,150.00]\n",
            "> y_test: \n",
            " [112,635.00 67,938.00 113,812.00 83,088.00 64,445.00 57,189.00]\n"
          ]
        }
      ],
      "source": [
        "from sklearn.model_selection import train_test_split\n",
        "\n",
        "X_train, X_test, y_train, y_test = train_test_split(X, y, test_size=0.2, random_state=42)\n",
        "\n",
        "print(\"Printing Training Sets: \")\n",
        "print(\"> X_train: \\n\", X_train)\n",
        "print(\"> X_test: \\n\", X_test, \"\\n\")\n",
        "\n",
        "print(\"\\n\")\n",
        "\n",
        "print(\"Printing Test Sets: \")\n",
        "print(\"> y_train: \\n\", y_train)\n",
        "print(\"> y_test: \\n\", y_test)"
      ]
    },
    {
      "cell_type": "markdown",
      "metadata": {
        "id": "TpGqbS4TqkIR"
      },
      "source": [
        "## Step-5: Feature Scaling:-"
      ]
    },
    {
      "cell_type": "code",
      "execution_count": 16,
      "metadata": {
        "colab": {
          "base_uri": "https://localhost:8080/"
        },
        "id": "HKf1Or3_BlW1",
        "outputId": "91f40fa3-981b-4588-89a6-9cb6650426b1"
      },
      "outputs": [
        {
          "output_type": "stream",
          "name": "stdout",
          "text": [
            "Printing Training Sets after Feature Scaling:\n",
            "> X_train: \n",
            " [[1.77]\n",
            " [1.22]\n",
            " [-0.41]\n",
            " [-1.42]\n",
            " [-1.04]\n",
            " [-0.03]\n",
            " [-0.79]\n",
            " [-0.38]\n",
            " [-0.41]\n",
            " [0.94]\n",
            " [-1.35]\n",
            " [-1.28]\n",
            " [1.32]\n",
            " [-1.11]\n",
            " [0.66]\n",
            " [1.50]\n",
            " [0.25]\n",
            " [1.84]\n",
            " [0.56]\n",
            " [-0.69]\n",
            " [-0.45]\n",
            " [-0.24]\n",
            " [0.28]\n",
            " [-0.76]]\n",
            "\n",
            "\n",
            "Printing Test Sets after Feature Scaling:\n",
            "> X_test: \n",
            " [[1.53]\n",
            " [-0.10]\n",
            " [1.05]\n",
            " [0.04]\n",
            " [-0.69]\n",
            " [-0.52]]\n"
          ]
        }
      ],
      "source": [
        "\"\"\" Here we are not applying Feature Scaling in Dependent Variable (y), because there are only 0 and 1 values in y \"\"\"\n",
        "# StandardScaler class from scikit-learn, which is a tool for standardization and Normalization.\n",
        "from sklearn.preprocessing import StandardScaler\n",
        "\n",
        "sc = StandardScaler()\n",
        "\n",
        "# Convert X_train and X_test to NumPy arrays if they are DataFrames\n",
        "X_train = X_train.to_numpy() if isinstance(X_train, pd.DataFrame) else X_train\n",
        "X_test = X_test.to_numpy() if isinstance(X_test, pd.DataFrame) else X_test\n",
        "\n",
        "# Iterate through columns of X_train and X_test\n",
        "for col in range(X_train.shape[1]):  # Use range to get column indices\n",
        "    # Check if all values in the column are 0 or 1\n",
        "    if np.all(np.isin(X_train[:, col], [0, 1])):\n",
        "        continue  # Skip scaling for this column\n",
        "    else:\n",
        "        # Reshape the column before scaling\n",
        "        X_train[:, col] = sc.fit_transform(X_train[:, col].reshape(-1, 1)).flatten()\n",
        "        X_test[:, col] = sc.transform(X_test[:, col].reshape(-1, 1)).flatten()\n",
        "\n",
        "print(\"Printing Training Sets after Feature Scaling:\")\n",
        "print(\"> X_train: \\n\", X_train)\n",
        "print(\"\\n\")\n",
        "print(\"Printing Test Sets after Feature Scaling:\")\n",
        "print(\"> X_test: \\n\", X_test)"
      ]
    }
  ],
  "metadata": {
    "colab": {
      "provenance": [],
      "include_colab_link": true
    },
    "kernelspec": {
      "display_name": "Python 3",
      "name": "python3"
    },
    "language_info": {
      "codemirror_mode": {
        "name": "ipython",
        "version": 3
      },
      "file_extension": ".py",
      "mimetype": "text/x-python",
      "name": "python",
      "nbconvert_exporter": "python",
      "pygments_lexer": "ipython3",
      "version": "3.13.0"
    }
  },
  "nbformat": 4,
  "nbformat_minor": 0
}