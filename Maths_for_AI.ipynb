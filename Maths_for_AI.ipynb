{
  "cells": [
    {
      "cell_type": "markdown",
      "metadata": {
        "id": "view-in-github",
        "colab_type": "text"
      },
      "source": [
        "<a href=\"https://colab.research.google.com/github/rajan-dhinoja/Machine_Learning_Mastery/blob/main/Maths_for_AI.ipynb\" target=\"_parent\"><img src=\"https://colab.research.google.com/assets/colab-badge.svg\" alt=\"Open In Colab\"/></a>"
      ]
    },
    {
      "cell_type": "code",
      "execution_count": 1,
      "metadata": {
        "id": "Y1bwDAvYgQAW"
      },
      "outputs": [],
      "source": [
        "import numpy as np\n",
        "import matplotlib.pyplot as plt\n",
        "import pandas as pd\n",
        "import seaborn as sns\n",
        "\n",
        "np.set_printoptions(precision = 3)"
      ]
    },
    {
      "cell_type": "markdown",
      "metadata": {
        "id": "ipdPybRsl1QL"
      },
      "source": [
        "# Vector Tutorial..."
      ]
    },
    {
      "cell_type": "code",
      "execution_count": 2,
      "metadata": {
        "colab": {
          "base_uri": "https://localhost:8080/",
          "height": 435
        },
        "id": "us4LWmYAYeLF",
        "outputId": "e2423219-61c5-4c70-cdfb-73cb81753cb6"
      },
      "outputs": [
        {
          "output_type": "display_data",
          "data": {
            "text/plain": [
              "<Figure size 640x480 with 1 Axes>"
            ],
            "image/png": "[encoded data removed]"
          },
          "metadata": {}
        }
      ],
      "source": [
        "plt.quiver(0,0,4,5, scale_units = 'xy', angles = 'xy', scale = 1, color = 'r')\n",
        "plt.xlim(-5,8)\n",
        "plt.ylim(-5,8)\n",
        "plt.show()"
      ]
    },
    {
      "cell_type": "code",
      "execution_count": 3,
      "metadata": {
        "colab": {
          "base_uri": "https://localhost:8080/",
          "height": 482
        },
        "id": "fMfKzIrYYU52",
        "outputId": "7ad1d5ae-2f48-4988-847f-da838ae70eec"
      },
      "outputs": [
        {
          "output_type": "stream",
          "name": "stdout",
          "text": [
            "Vector 1:  [ 3 -1 -6]\n",
            "Vector 2:  [-4 -6  5] \n",
            "\n"
          ]
        },
        {
          "output_type": "display_data",
          "data": {
            "text/plain": [
              "<Figure size 640x480 with 1 Axes>"
            ],
            "image/png": "[encoded data removed]"
          },
          "metadata": {}
        }
      ],
      "source": [
        "vector_1 = np.random.randint(-10,10,3)\n",
        "vector_2 = np.random.randint(-10,10,3)\n",
        "# vector_1 = np.array([1,2,3])\n",
        "# vector_2 = np.array([4,5,6])\n",
        "\n",
        "print(\"Vector 1: \",vector_1)\n",
        "print(\"Vector 2: \",vector_2, \"\\n\")\n",
        "\n",
        "plt.quiver(0,0,vector_1[0], vector_1[1], scale_units = 'xy', angles = 'xy', scale = 1, color = 'r')\n",
        "plt.quiver(0,0,vector_2[1], vector_2[2], scale_units = 'xy', angles = 'xy', scale = 1, color = 'b')\n",
        "plt.xlim(-12,12)\n",
        "plt.ylim(-12,12)\n",
        "plt.show()"
      ]
    },
    {
      "cell_type": "markdown",
      "metadata": {
        "id": "eI4FfmwlakcF"
      },
      "source": [
        "## Diff. Operation on Vectores:-"
      ]
    },
    {
      "cell_type": "code",
      "execution_count": 4,
      "metadata": {
        "colab": {
          "base_uri": "https://localhost:8080/"
        },
        "id": "Pcc-hXARajdx",
        "outputId": "4c5ee226-6cea-418e-ac28-c0d1d8e0bf82"
      },
      "outputs": [
        {
          "output_type": "stream",
          "name": "stdout",
          "text": [
            "Vector Addition: \t[-1 -7 -1]\n",
            "Vector Subtraction: \t[  7   5 -11]\n",
            "Scaler Multiplication: \t[  75  -25 -150]\n",
            "Vector Multiplication: \t[-12   6 -30]\n",
            "Vector Division: \t[-0.75   0.167 -1.2  ]\n"
          ]
        }
      ],
      "source": [
        "# Vector Arithmetic:-\n",
        "\n",
        "print(f\"Vector Addition: \\t{np.add(vector_1, vector_2)}\")\n",
        "print(f\"Vector Subtraction: \\t{np.subtract(vector_1, vector_2)}\")\n",
        "print(f\"Scaler Multiplication: \\t{np.multiply(vector_1,25)}\")\n",
        "print(f\"Vector Multiplication: \\t{np.multiply(vector_1, vector_2)}\")\n",
        "print(f\"Vector Division: \\t{np.divide(vector_1, vector_2)}\")"
      ]
    },
    {
      "cell_type": "code",
      "execution_count": 5,
      "metadata": {
        "colab": {
          "base_uri": "https://localhost:8080/"
        },
        "id": "R7YG5idFmKKq",
        "outputId": "358f0441-3e29-4d40-e3ca-3595eff21abd"
      },
      "outputs": [
        {
          "output_type": "stream",
          "name": "stdout",
          "text": [
            "Dot Product: \t-36\n",
            "Cross Product: \t[-41   9 -22]\n"
          ]
        }
      ],
      "source": [
        "# Vector Product:-\n",
        "\n",
        "print(f\"Dot Product: \\t{np.dot(vector_1, vector_2)}\")\n",
        "print(f\"Cross Product: \\t{np.cross(vector_1, vector_2)}\")"
      ]
    },
    {
      "cell_type": "code",
      "execution_count": 6,
      "metadata": {
        "colab": {
          "base_uri": "https://localhost:8080/"
        },
        "id": "PFC7aY6V1WRd",
        "outputId": "10f4886a-3235-4cfd-d1fc-af38370cc58d"
      },
      "outputs": [
        {
          "output_type": "stream",
          "name": "stdout",
          "text": [
            "Projection of vector_1 on vector_2: k[ 16.41   24.615 -20.513]\n"
          ]
        }
      ],
      "source": [
        "# Projection of vector_1 on vector_2 [(proj_1_on_2) = (1x2/||2||**2)x2] :-\n",
        "\n",
        "magnitude_of_2 = np.sqrt(sum(vector_2**2))\n",
        "# magnitude_of_2 = np.sqrt(np.dot(vector_2, vector_2))\n",
        "\n",
        "projection = (np.dot(vector_1, vector_2) / magnitude_of_2) * vector_2\n",
        "print(f\"Projection of vector_1 on vector_2: k{projection}\")"
      ]
    },
    {
      "cell_type": "markdown",
      "metadata": {
        "id": "5iRtxNRCTSSx"
      },
      "source": [
        "# Matrix Tutorial..."
      ]
    },
    {
      "cell_type": "code",
      "execution_count": 7,
      "metadata": {
        "id": "MarGqOAjTSSy",
        "outputId": "3854e289-f64e-4304-d7a0-c948100f1a9d",
        "colab": {
          "base_uri": "https://localhost:8080/"
        }
      },
      "outputs": [
        {
          "output_type": "stream",
          "name": "stdout",
          "text": [
            "Matrix 1: \n",
            " [[9 7 3 1]\n",
            " [6 6 9 9]\n",
            " [3 8 5 4]\n",
            " [6 7 9 3]]\n",
            "Shape of Matrix 1: (4, 4) \n",
            "\n",
            "Matrix 2: \n",
            " [[6 2 8 2]\n",
            " [3 8 8 2]\n",
            " [1 6 5 2]\n",
            " [7 3 9 8]]\n",
            "Shape of Matrix 2: (4, 4) \n",
            "\n"
          ]
        }
      ],
      "source": [
        "s = np.random.randint(2, 10)\n",
        "\n",
        "matrix_1 = np.random.randint(1, 10, size=(s,s))\n",
        "print(f\"Matrix 1: \\n {matrix_1}\")\n",
        "print(f\"Shape of Matrix 1: {matrix_1.shape} \\n\")\n",
        "\n",
        "matrix_2 = np.random.randint(1, 10, size=(s,s))\n",
        "print(f\"Matrix 2: \\n {matrix_2}\")\n",
        "print(f\"Shape of Matrix 2: {matrix_2.shape} \\n\")"
      ]
    },
    {
      "cell_type": "markdown",
      "source": [
        "## Diff. Operations on Matrices:-"
      ],
      "metadata": {
        "id": "Q5pkCv59UXS5"
      }
    },
    {
      "cell_type": "code",
      "source": [
        "# Matrix Arithmetic:-\n",
        "\n",
        "print(f\"Matrix Addition: \\n {np.add(matrix_1, matrix_2)} \\n\")\n",
        "print(f\"Matrix Subtraction: \\n {np.subtract(matrix_1, matrix_2)} \\n\")\n",
        "print(f\"Scaler Multiplication: \\n {np.multiply(matrix_1,25)} \\n\")\n",
        "print(f\"Matrix Multiplication: \\n {np.multiply(matrix_1,matrix_2)} \\n\")\n",
        "print(f\"Matrix Division: \\n {np.divide(matrix_1, matrix_2)} \\n\")"
      ],
      "metadata": {
        "id": "hOE1llgtUtKu",
        "colab": {
          "base_uri": "https://localhost:8080/"
        },
        "outputId": "73b39246-8e14-4300-e1c4-01235fe3b9a7"
      },
      "execution_count": 8,
      "outputs": [
        {
          "output_type": "stream",
          "name": "stdout",
          "text": [
            "Matrix Addition: \n",
            " [[15  9 11  3]\n",
            " [ 9 14 17 11]\n",
            " [ 4 14 10  6]\n",
            " [13 10 18 11]] \n",
            "\n",
            "Matrix Subtraction: \n",
            " [[ 3  5 -5 -1]\n",
            " [ 3 -2  1  7]\n",
            " [ 2  2  0  2]\n",
            " [-1  4  0 -5]] \n",
            "\n",
            "Scaler Multiplication: \n",
            " [[225 175  75  25]\n",
            " [150 150 225 225]\n",
            " [ 75 200 125 100]\n",
            " [150 175 225  75]] \n",
            "\n",
            "Matrix Multiplication: \n",
            " [[54 14 24  2]\n",
            " [18 48 72 18]\n",
            " [ 3 48 25  8]\n",
            " [42 21 81 24]] \n",
            "\n",
            "Matrix Division: \n",
            " [[1.5   3.5   0.375 0.5  ]\n",
            " [2.    0.75  1.125 4.5  ]\n",
            " [3.    1.333 1.    2.   ]\n",
            " [0.857 2.333 1.    0.375]] \n",
            "\n"
          ]
        }
      ]
    },
    {
      "cell_type": "code",
      "source": [
        "# Also np.transpose can also be used...\n",
        "print(f\"Matrix Transpose: \\n {matrix_1.T} \\n\")\n",
        "print(f\"Matrix Transpose: \\n {matrix_2.T} \\n\")"
      ],
      "metadata": {
        "colab": {
          "base_uri": "https://localhost:8080/"
        },
        "id": "UW5umSSGXUXb",
        "outputId": "71dd8b34-1676-47c7-b616-59bddd53fd15"
      },
      "execution_count": 9,
      "outputs": [
        {
          "output_type": "stream",
          "name": "stdout",
          "text": [
            "Matrix Transpose: \n",
            " [[9 6 3 6]\n",
            " [7 6 8 7]\n",
            " [3 9 5 9]\n",
            " [1 9 4 3]] \n",
            "\n",
            "Matrix Transpose: \n",
            " [[6 3 1 7]\n",
            " [2 8 6 3]\n",
            " [8 8 5 9]\n",
            " [2 2 2 8]] \n",
            "\n"
          ]
        }
      ]
    },
    {
      "cell_type": "code",
      "source": [
        "# Matrix Product:-\n",
        "\n",
        "print(f\"Dot Product: \\n {np.dot(matrix_1, matrix_2)} \\n\")\n",
        "\n",
        "if matrix_1.shape[1] & matrix_2.shape[0] == 3:\n",
        "  print(f\"Cross Product: \\n {np.cross(matrix_1, matrix_2)} \\n\")\n",
        "else:\n",
        "  print(\"Cross Product Not Possible...\")"
      ],
      "metadata": {
        "colab": {
          "base_uri": "https://localhost:8080/"
        },
        "id": "bADZId2MbaxK",
        "outputId": "afe2a8a7-8de0-4961-e6e3-d14e4e25a5a4"
      },
      "execution_count": 10,
      "outputs": [
        {
          "output_type": "stream",
          "name": "stdout",
          "text": [
            "Dot Product: \n",
            " [[ 85  95 152  46]\n",
            " [126 141 222 114]\n",
            " [ 75 112 149  64]\n",
            " [ 87 131 176  68]] \n",
            "\n",
            "Cross Product Not Possible...\n"
          ]
        }
      ]
    },
    {
      "cell_type": "code",
      "source": [
        "# Diff. forms of Matrices:-\n",
        "\n",
        "print(f\"Matrix of Ones: \\n {np.ones((s,s), dtype=int)} \\n\")\n",
        "print(f\"Matrix of Zeros/Null Matrix: \\n {np.zeros((s,s), dtype=int)} \\n\")\n",
        "print(f\"Identity Matrix: \\n {np.eye(s, dtype=int)} \\n\")"
      ],
      "metadata": {
        "colab": {
          "base_uri": "https://localhost:8080/"
        },
        "id": "O5bz2jF8YFBJ",
        "outputId": "7427d6a7-5420-4d40-ad05-cd71105179cd"
      },
      "execution_count": 11,
      "outputs": [
        {
          "output_type": "stream",
          "name": "stdout",
          "text": [
            "Matrix of Ones: \n",
            " [[1 1 1 1]\n",
            " [1 1 1 1]\n",
            " [1 1 1 1]\n",
            " [1 1 1 1]] \n",
            "\n",
            "Matrix of Zeros/Null Matrix: \n",
            " [[0 0 0 0]\n",
            " [0 0 0 0]\n",
            " [0 0 0 0]\n",
            " [0 0 0 0]] \n",
            "\n",
            "Identity Matrix: \n",
            " [[1 0 0 0]\n",
            " [0 1 0 0]\n",
            " [0 0 1 0]\n",
            " [0 0 0 1]] \n",
            "\n"
          ]
        }
      ]
    },
    {
      "cell_type": "markdown",
      "source": [
        "# Statistics Tutorial..."
      ],
      "metadata": {
        "id": "J9Ov_0cyapYt"
      }
    },
    {
      "cell_type": "code",
      "source": [],
      "metadata": {
        "id": "xg5W6_6tesy3"
      },
      "execution_count": null,
      "outputs": []
    }
  ],
  "metadata": {
    "colab": {
      "provenance": [],
      "include_colab_link": true
    },
    "kernelspec": {
      "display_name": "Python 3",
      "name": "python3"
    },
    "language_info": {
      "codemirror_mode": {
        "name": "ipython",
        "version": 3
      },
      "file_extension": ".py",
      "mimetype": "text/x-python",
      "name": "python",
      "nbconvert_exporter": "python",
      "pygments_lexer": "ipython3",
      "version": "3.13.0"
    },
    "vp": {
      "vp_note_display": false,
      "vp_note_width": 0,
      "vp_section_display": false
    }
  },
  "nbformat": 4,
  "nbformat_minor": 0
}