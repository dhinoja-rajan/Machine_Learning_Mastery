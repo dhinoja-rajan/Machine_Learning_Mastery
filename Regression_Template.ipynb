{
  "nbformat": 4,
  "nbformat_minor": 0,
  "metadata": {
    "colab": {
      "provenance": [],
      "include_colab_link": true
    },
    "kernelspec": {
      "name": "python3",
      "display_name": "Python 3"
    },
    "language_info": {
      "name": "python"
    }
  },
  "cells": [
    {
      "cell_type": "markdown",
      "metadata": {
        "id": "view-in-github",
        "colab_type": "text"
      },
      "source": [
        "<a href=\"https://colab.research.google.com/github/rajan-dhinoja/Machine_Learning_Mastery/blob/main/Regression_Template.ipynb\" target=\"_parent\"><img src=\"https://colab.research.google.com/assets/colab-badge.svg\" alt=\"Open In Colab\"/></a>"
      ]
    },
    {
      "cell_type": "markdown",
      "source": [
        "---\n",
        "# **Regression Template**\n",
        "---\n",
        "\n"
      ],
      "metadata": {
        "id": "KBPGWkUlq5PL"
      }
    },
    {
      "cell_type": "markdown",
      "metadata": {
        "id": "HvALcJ3yAryu"
      },
      "source": [
        "# ***Step-A: Data Preprocessing:-***"
      ]
    },
    {
      "cell_type": "markdown",
      "metadata": {
        "id": "LbMfPnCfAryw"
      },
      "source": [
        "## Step-1: Import Required Dependencies:-\n",
        "Import essential libraries and modules for data manipulation, visualization, and preprocessing..."
      ]
    },
    {
      "cell_type": "code",
      "source": [
        "from google.colab import drive\n",
        "drive.mount('/content/drive')\n",
        "\n",
        "import numpy as np\n",
        "import matplotlib.pyplot as plt\n",
        "import pandas as pd\n",
        "import seaborn as sns\n",
        "import re\n",
        "import nltk\n",
        "import warnings\n",
        "warnings.filterwarnings('ignore')\n",
        "\n",
        "# Set the option to prevent silent downcasting\n",
        "np.set_printoptions(formatter={'float': '{:,.2f}'.format}, suppress=True, precision=2)\n",
        "pd.options.display.float_format = '{:,.2f}'.format\n",
        "pd.set_option('future.no_silent_downcasting', True)\n",
        "\n",
        "print(\"✅ Required Libraries are Imported - Done!\\n\")"
      ],
      "metadata": {
        "id": "MmgVQ5oeAryx",
        "outputId": "9c597d30-3cca-457c-a519-66e3f54cac37",
        "colab": {
          "base_uri": "https://localhost:8080/"
        }
      },
      "execution_count": null,
      "outputs": [
        {
          "output_type": "stream",
          "name": "stdout",
          "text": [
            "Mounted at /content/drive\n",
            "✅ Required Libraries are Imported - Done!\n",
            "\n"
          ]
        }
      ]
    },
    {
      "cell_type": "markdown",
      "metadata": {
        "id": "yVRL8v08Aryx"
      },
      "source": [
        "## Step-2: Load the Dataset and Display Different overviews of Datasets:-"
      ]
    },
    {
      "cell_type": "code",
      "source": [
        "# dataset = pd.DataFrame(pd.read_csv('/content/drive/MyDrive/Datasets/REGRESSION/Big_Mart_Sales/train_set.csv'))\n",
        "# dataset = pd.DataFrame(pd.read_csv('/content/drive/MyDrive/Datasets/REGRESSION/Flight_Price_Prediction/business.csv'))\n",
        "# dataset = pd.DataFrame(pd.read_csv('/content/drive/MyDrive/Datasets/REGRESSION/Flight_Price_Prediction/economy.csv'))\n",
        "# dataset = pd.DataFrame(pd.read_csv('/content/drive/MyDrive/Datasets/REGRESSION/car_price_prediction.csv'))\n",
        "# dataset = pd.DataFrame(pd.read_csv('/content/drive/MyDrive/Datasets/REGRESSION/insurance.csv'))\n",
        "dataset = pd.DataFrame(pd.read_csv('/content/drive/MyDrive/Datasets/REGRESSION/medical_premium.csv'))\n",
        "dataset.head()"
      ],
      "metadata": {
        "colab": {
          "base_uri": "https://localhost:8080/",
          "height": 206
        },
        "outputId": "762eb186-a0c6-43ac-c2a3-c4b2cf9dc8f8",
        "id": "xBtYmKrSAryy"
      },
      "execution_count": null,
      "outputs": [
        {
          "output_type": "execute_result",
          "data": {
            "text/plain": [
              "   Age  Diabetes  BloodPressureProblems  AnyTransplants  AnyChronicDiseases  \\\n",
              "0   45         0                      0               0                   0   \n",
              "1   60         1                      0               0                   0   \n",
              "2   36         1                      1               0                   0   \n",
              "3   52         1                      1               0                   1   \n",
              "4   38         0                      0               0                   1   \n",
              "\n",
              "   Height  Weight  KnownAllergies  HistoryOfCancerInFamily  \\\n",
              "0     155      57               0                        0   \n",
              "1     180      73               0                        0   \n",
              "2     158      59               0                        0   \n",
              "3     183      93               0                        0   \n",
              "4     166      88               0                        0   \n",
              "\n",
              "   NumberOfMajorSurgeries  PremiumPrice  \n",
              "0                       0         25000  \n",
              "1                       0         29000  \n",
              "2                       1         23000  \n",
              "3                       2         28000  \n",
              "4                       1         23000  "
            ],
            "text/html": [
              "\n",
              "  <div id=\"df-ea42cbf7-530a-4deb-9a2e-df671bb244a8\" class=\"colab-df-container\">\n",
              "    <div>\n",
              "<style scoped>\n",
              "    .dataframe tbody tr th:only-of-type {\n",
              "        vertical-align: middle;\n",
              "    }\n",
              "\n",
              "    .dataframe tbody tr th {\n",
              "        vertical-align: top;\n",
              "    }\n",
              "\n",
              "    .dataframe thead th {\n",
              "        text-align: right;\n",
              "    }\n",
              "</style>\n",
              "<table border=\"1\" class=\"dataframe\">\n",
              "  <thead>\n",
              "    <tr style=\"text-align: right;\">\n",
              "      <th></th>\n",
              "      <th>Age</th>\n",
              "      <th>Diabetes</th>\n",
              "      <th>BloodPressureProblems</th>\n",
              "      <th>AnyTransplants</th>\n",
              "      <th>AnyChronicDiseases</th>\n",
              "      <th>Height</th>\n",
              "      <th>Weight</th>\n",
              "      <th>KnownAllergies</th>\n",
              "      <th>HistoryOfCancerInFamily</th>\n",
              "      <th>NumberOfMajorSurgeries</th>\n",
              "      <th>PremiumPrice</th>\n",
              "    </tr>\n",
              "  </thead>\n",
              "  <tbody>\n",
              "    <tr>\n",
              "      <th>0</th>\n",
              "      <td>45</td>\n",
              "      <td>0</td>\n",
              "      <td>0</td>\n",
              "      <td>0</td>\n",
              "      <td>0</td>\n",
              "      <td>155</td>\n",
              "      <td>57</td>\n",
              "      <td>0</td>\n",
              "      <td>0</td>\n",
              "      <td>0</td>\n",
              "      <td>25000</td>\n",
              "    </tr>\n",
              "    <tr>\n",
              "      <th>1</th>\n",
              "      <td>60</td>\n",
              "      <td>1</td>\n",
              "      <td>0</td>\n",
              "      <td>0</td>\n",
              "      <td>0</td>\n",
              "      <td>180</td>\n",
              "      <td>73</td>\n",
              "      <td>0</td>\n",
              "      <td>0</td>\n",
              "      <td>0</td>\n",
              "      <td>29000</td>\n",
              "    </tr>\n",
              "    <tr>\n",
              "      <th>2</th>\n",
              "      <td>36</td>\n",
              "      <td>1</td>\n",
              "      <td>1</td>\n",
              "      <td>0</td>\n",
              "      <td>0</td>\n",
              "      <td>158</td>\n",
              "      <td>59</td>\n",
              "      <td>0</td>\n",
              "      <td>0</td>\n",
              "      <td>1</td>\n",
              "      <td>23000</td>\n",
              "    </tr>\n",
              "    <tr>\n",
              "      <th>3</th>\n",
              "      <td>52</td>\n",
              "      <td>1</td>\n",
              "      <td>1</td>\n",
              "      <td>0</td>\n",
              "      <td>1</td>\n",
              "      <td>183</td>\n",
              "      <td>93</td>\n",
              "      <td>0</td>\n",
              "      <td>0</td>\n",
              "      <td>2</td>\n",
              "      <td>28000</td>\n",
              "    </tr>\n",
              "    <tr>\n",
              "      <th>4</th>\n",
              "      <td>38</td>\n",
              "      <td>0</td>\n",
              "      <td>0</td>\n",
              "      <td>0</td>\n",
              "      <td>1</td>\n",
              "      <td>166</td>\n",
              "      <td>88</td>\n",
              "      <td>0</td>\n",
              "      <td>0</td>\n",
              "      <td>1</td>\n",
              "      <td>23000</td>\n",
              "    </tr>\n",
              "  </tbody>\n",
              "</table>\n",
              "</div>\n",
              "    <div class=\"colab-df-buttons\">\n",
              "\n",
              "  <div class=\"colab-df-container\">\n",
              "    <button class=\"colab-df-convert\" onclick=\"convertToInteractive('df-ea42cbf7-530a-4deb-9a2e-df671bb244a8')\"\n",
              "            title=\"Convert this dataframe to an interactive table.\"\n",
              "            style=\"display:none;\">\n",
              "\n",
              "  <svg xmlns=\"http://www.w3.org/2000/svg\" height=\"24px\" viewBox=\"0 -960 960 960\">\n",
              "    <path d=\"M120-120v-720h720v720H120Zm60-500h600v-160H180v160Zm220 220h160v-160H400v160Zm0 220h160v-160H400v160ZM180-400h160v-160H180v160Zm440 0h160v-160H620v160ZM180-180h160v-160H180v160Zm440 0h160v-160H620v160Z\"/>\n",
              "  </svg>\n",
              "    </button>\n",
              "\n",
              "  <style>\n",
              "    .colab-df-container {\n",
              "      display:flex;\n",
              "      gap: 12px;\n",
              "    }\n",
              "\n",
              "    .colab-df-convert {\n",
              "      background-color: #E8F0FE;\n",
              "      border: none;\n",
              "      border-radius: 50%;\n",
              "      cursor: pointer;\n",
              "      display: none;\n",
              "      fill: #1967D2;\n",
              "      height: 32px;\n",
              "      padding: 0 0 0 0;\n",
              "      width: 32px;\n",
              "    }\n",
              "\n",
              "    .colab-df-convert:hover {\n",
              "      background-color: #E2EBFA;\n",
              "      box-shadow: 0px 1px 2px rgba(60, 64, 67, 0.3), 0px 1px 3px 1px rgba(60, 64, 67, 0.15);\n",
              "      fill: #174EA6;\n",
              "    }\n",
              "\n",
              "    .colab-df-buttons div {\n",
              "      margin-bottom: 4px;\n",
              "    }\n",
              "\n",
              "    [theme=dark] .colab-df-convert {\n",
              "      background-color: #3B4455;\n",
              "      fill: #D2E3FC;\n",
              "    }\n",
              "\n",
              "    [theme=dark] .colab-df-convert:hover {\n",
              "      background-color: #434B5C;\n",
              "      box-shadow: 0px 1px 3px 1px rgba(0, 0, 0, 0.15);\n",
              "      filter: drop-shadow(0px 1px 2px rgba(0, 0, 0, 0.3));\n",
              "      fill: #FFFFFF;\n",
              "    }\n",
              "  </style>\n",
              "\n",
              "    <script>\n",
              "      const buttonEl =\n",
              "        document.querySelector('#df-ea42cbf7-530a-4deb-9a2e-df671bb244a8 button.colab-df-convert');\n",
              "      buttonEl.style.display =\n",
              "        google.colab.kernel.accessAllowed ? 'block' : 'none';\n",
              "\n",
              "      async function convertToInteractive(key) {\n",
              "        const element = document.querySelector('#df-ea42cbf7-530a-4deb-9a2e-df671bb244a8');\n",
              "        const dataTable =\n",
              "          await google.colab.kernel.invokeFunction('convertToInteractive',\n",
              "                                                    [key], {});\n",
              "        if (!dataTable) return;\n",
              "\n",
              "        const docLinkHtml = 'Like what you see? Visit the ' +\n",
              "          '<a target=\"_blank\" href=https://colab.research.google.com/notebooks/data_table.ipynb>data table notebook</a>'\n",
              "          + ' to learn more about interactive tables.';\n",
              "        element.innerHTML = '';\n",
              "        dataTable['output_type'] = 'display_data';\n",
              "        await google.colab.output.renderOutput(dataTable, element);\n",
              "        const docLink = document.createElement('div');\n",
              "        docLink.innerHTML = docLinkHtml;\n",
              "        element.appendChild(docLink);\n",
              "      }\n",
              "    </script>\n",
              "  </div>\n",
              "\n",
              "\n",
              "<div id=\"df-190cce0c-91d2-4968-87ff-300fd9506754\">\n",
              "  <button class=\"colab-df-quickchart\" onclick=\"quickchart('df-190cce0c-91d2-4968-87ff-300fd9506754')\"\n",
              "            title=\"Suggest charts\"\n",
              "            style=\"display:none;\">\n",
              "\n",
              "<svg xmlns=\"http://www.w3.org/2000/svg\" height=\"24px\"viewBox=\"0 0 24 24\"\n",
              "     width=\"24px\">\n",
              "    <g>\n",
              "        <path d=\"M19 3H5c-1.1 0-2 .9-2 2v14c0 1.1.9 2 2 2h14c1.1 0 2-.9 2-2V5c0-1.1-.9-2-2-2zM9 17H7v-7h2v7zm4 0h-2V7h2v10zm4 0h-2v-4h2v4z\"/>\n",
              "    </g>\n",
              "</svg>\n",
              "  </button>\n",
              "\n",
              "<style>\n",
              "  .colab-df-quickchart {\n",
              "      --bg-color: #E8F0FE;\n",
              "      --fill-color: #1967D2;\n",
              "      --hover-bg-color: #E2EBFA;\n",
              "      --hover-fill-color: #174EA6;\n",
              "      --disabled-fill-color: #AAA;\n",
              "      --disabled-bg-color: #DDD;\n",
              "  }\n",
              "\n",
              "  [theme=dark] .colab-df-quickchart {\n",
              "      --bg-color: #3B4455;\n",
              "      --fill-color: #D2E3FC;\n",
              "      --hover-bg-color: #434B5C;\n",
              "      --hover-fill-color: #FFFFFF;\n",
              "      --disabled-bg-color: #3B4455;\n",
              "      --disabled-fill-color: #666;\n",
              "  }\n",
              "\n",
              "  .colab-df-quickchart {\n",
              "    background-color: var(--bg-color);\n",
              "    border: none;\n",
              "    border-radius: 50%;\n",
              "    cursor: pointer;\n",
              "    display: none;\n",
              "    fill: var(--fill-color);\n",
              "    height: 32px;\n",
              "    padding: 0;\n",
              "    width: 32px;\n",
              "  }\n",
              "\n",
              "  .colab-df-quickchart:hover {\n",
              "    background-color: var(--hover-bg-color);\n",
              "    box-shadow: 0 1px 2px rgba(60, 64, 67, 0.3), 0 1px 3px 1px rgba(60, 64, 67, 0.15);\n",
              "    fill: var(--button-hover-fill-color);\n",
              "  }\n",
              "\n",
              "  .colab-df-quickchart-complete:disabled,\n",
              "  .colab-df-quickchart-complete:disabled:hover {\n",
              "    background-color: var(--disabled-bg-color);\n",
              "    fill: var(--disabled-fill-color);\n",
              "    box-shadow: none;\n",
              "  }\n",
              "\n",
              "  .colab-df-spinner {\n",
              "    border: 2px solid var(--fill-color);\n",
              "    border-color: transparent;\n",
              "    border-bottom-color: var(--fill-color);\n",
              "    animation:\n",
              "      spin 1s steps(1) infinite;\n",
              "  }\n",
              "\n",
              "  @keyframes spin {\n",
              "    0% {\n",
              "      border-color: transparent;\n",
              "      border-bottom-color: var(--fill-color);\n",
              "      border-left-color: var(--fill-color);\n",
              "    }\n",
              "    20% {\n",
              "      border-color: transparent;\n",
              "      border-left-color: var(--fill-color);\n",
              "      border-top-color: var(--fill-color);\n",
              "    }\n",
              "    30% {\n",
              "      border-color: transparent;\n",
              "      border-left-color: var(--fill-color);\n",
              "      border-top-color: var(--fill-color);\n",
              "      border-right-color: var(--fill-color);\n",
              "    }\n",
              "    40% {\n",
              "      border-color: transparent;\n",
              "      border-right-color: var(--fill-color);\n",
              "      border-top-color: var(--fill-color);\n",
              "    }\n",
              "    60% {\n",
              "      border-color: transparent;\n",
              "      border-right-color: var(--fill-color);\n",
              "    }\n",
              "    80% {\n",
              "      border-color: transparent;\n",
              "      border-right-color: var(--fill-color);\n",
              "      border-bottom-color: var(--fill-color);\n",
              "    }\n",
              "    90% {\n",
              "      border-color: transparent;\n",
              "      border-bottom-color: var(--fill-color);\n",
              "    }\n",
              "  }\n",
              "</style>\n",
              "\n",
              "  <script>\n",
              "    async function quickchart(key) {\n",
              "      const quickchartButtonEl =\n",
              "        document.querySelector('#' + key + ' button');\n",
              "      quickchartButtonEl.disabled = true;  // To prevent multiple clicks.\n",
              "      quickchartButtonEl.classList.add('colab-df-spinner');\n",
              "      try {\n",
              "        const charts = await google.colab.kernel.invokeFunction(\n",
              "            'suggestCharts', [key], {});\n",
              "      } catch (error) {\n",
              "        console.error('Error during call to suggestCharts:', error);\n",
              "      }\n",
              "      quickchartButtonEl.classList.remove('colab-df-spinner');\n",
              "      quickchartButtonEl.classList.add('colab-df-quickchart-complete');\n",
              "    }\n",
              "    (() => {\n",
              "      let quickchartButtonEl =\n",
              "        document.querySelector('#df-190cce0c-91d2-4968-87ff-300fd9506754 button');\n",
              "      quickchartButtonEl.style.display =\n",
              "        google.colab.kernel.accessAllowed ? 'block' : 'none';\n",
              "    })();\n",
              "  </script>\n",
              "</div>\n",
              "\n",
              "    </div>\n",
              "  </div>\n"
            ],
            "application/vnd.google.colaboratory.intrinsic+json": {
              "type": "dataframe",
              "variable_name": "dataset",
              "summary": "{\n  \"name\": \"dataset\",\n  \"rows\": 986,\n  \"fields\": [\n    {\n      \"column\": \"Age\",\n      \"properties\": {\n        \"dtype\": \"number\",\n        \"std\": 13,\n        \"min\": 18,\n        \"max\": 66,\n        \"num_unique_values\": 49,\n        \"samples\": [\n          42,\n          51,\n          62\n        ],\n        \"semantic_type\": \"\",\n        \"description\": \"\"\n      }\n    },\n    {\n      \"column\": \"Diabetes\",\n      \"properties\": {\n        \"dtype\": \"number\",\n        \"std\": 0,\n        \"min\": 0,\n        \"max\": 1,\n        \"num_unique_values\": 2,\n        \"samples\": [\n          1,\n          0\n        ],\n        \"semantic_type\": \"\",\n        \"description\": \"\"\n      }\n    },\n    {\n      \"column\": \"BloodPressureProblems\",\n      \"properties\": {\n        \"dtype\": \"number\",\n        \"std\": 0,\n        \"min\": 0,\n        \"max\": 1,\n        \"num_unique_values\": 2,\n        \"samples\": [\n          1,\n          0\n        ],\n        \"semantic_type\": \"\",\n        \"description\": \"\"\n      }\n    },\n    {\n      \"column\": \"AnyTransplants\",\n      \"properties\": {\n        \"dtype\": \"number\",\n        \"std\": 0,\n        \"min\": 0,\n        \"max\": 1,\n        \"num_unique_values\": 2,\n        \"samples\": [\n          1,\n          0\n        ],\n        \"semantic_type\": \"\",\n        \"description\": \"\"\n      }\n    },\n    {\n      \"column\": \"AnyChronicDiseases\",\n      \"properties\": {\n        \"dtype\": \"number\",\n        \"std\": 0,\n        \"min\": 0,\n        \"max\": 1,\n        \"num_unique_values\": 2,\n        \"samples\": [\n          1,\n          0\n        ],\n        \"semantic_type\": \"\",\n        \"description\": \"\"\n      }\n    },\n    {\n      \"column\": \"Height\",\n      \"properties\": {\n        \"dtype\": \"number\",\n        \"std\": 10,\n        \"min\": 145,\n        \"max\": 188,\n        \"num_unique_values\": 44,\n        \"samples\": [\n          167,\n          161\n        ],\n        \"semantic_type\": \"\",\n        \"description\": \"\"\n      }\n    },\n    {\n      \"column\": \"Weight\",\n      \"properties\": {\n        \"dtype\": \"number\",\n        \"std\": 14,\n        \"min\": 51,\n        \"max\": 132,\n        \"num_unique_values\": 74,\n        \"samples\": [\n          88,\n          123\n        ],\n        \"semantic_type\": \"\",\n        \"description\": \"\"\n      }\n    },\n    {\n      \"column\": \"KnownAllergies\",\n      \"properties\": {\n        \"dtype\": \"number\",\n        \"std\": 0,\n        \"min\": 0,\n        \"max\": 1,\n        \"num_unique_values\": 2,\n        \"samples\": [\n          1,\n          0\n        ],\n        \"semantic_type\": \"\",\n        \"description\": \"\"\n      }\n    },\n    {\n      \"column\": \"HistoryOfCancerInFamily\",\n      \"properties\": {\n        \"dtype\": \"number\",\n        \"std\": 0,\n        \"min\": 0,\n        \"max\": 1,\n        \"num_unique_values\": 2,\n        \"samples\": [\n          1,\n          0\n        ],\n        \"semantic_type\": \"\",\n        \"description\": \"\"\n      }\n    },\n    {\n      \"column\": \"NumberOfMajorSurgeries\",\n      \"properties\": {\n        \"dtype\": \"number\",\n        \"std\": 0,\n        \"min\": 0,\n        \"max\": 3,\n        \"num_unique_values\": 4,\n        \"samples\": [\n          1,\n          3\n        ],\n        \"semantic_type\": \"\",\n        \"description\": \"\"\n      }\n    },\n    {\n      \"column\": \"PremiumPrice\",\n      \"properties\": {\n        \"dtype\": \"number\",\n        \"std\": 6248,\n        \"min\": 15000,\n        \"max\": 40000,\n        \"num_unique_values\": 24,\n        \"samples\": [\n          32000,\n          40000\n        ],\n        \"semantic_type\": \"\",\n        \"description\": \"\"\n      }\n    }\n  ]\n}"
            }
          },
          "metadata": {},
          "execution_count": 2
        }
      ]
    },
    {
      "cell_type": "code",
      "source": [
        "# Seperate the whole datset into categorical and numerical columns...\n",
        "\n",
        "categorical_cols = dataset.select_dtypes(include=['object']).columns\n",
        "numerical_cols = dataset.select_dtypes(exclude=['object']).columns\n",
        "\n",
        "if categorical_cols.empty:\n",
        "  print(\"❌ No Categorical Columns Found...\\n\")\n",
        "else:\n",
        "  print(\"✅ Categorical Columns found: \\n\", categorical_cols, \"\\n\")\n",
        "\n",
        "if numerical_cols.empty:\n",
        "  print(\"❌ No Numerical Columns Found...\\n\")\n",
        "else:\n",
        "  print(\"✅ Numerical Columns found: \\n\", numerical_cols)"
      ],
      "metadata": {
        "id": "zcZDaNI0I-4g",
        "outputId": "2bb84e48-fdfd-4429-eef4-76cf242d0eae",
        "colab": {
          "base_uri": "https://localhost:8080/"
        }
      },
      "execution_count": null,
      "outputs": [
        {
          "output_type": "stream",
          "name": "stdout",
          "text": [
            "❌ No Categorical Columns Found...\n",
            "\n",
            "✅ Numerical Columns found: \n",
            " Index(['Age', 'Diabetes', 'BloodPressureProblems', 'AnyTransplants',\n",
            "       'AnyChronicDiseases', 'Height', 'Weight', 'KnownAllergies',\n",
            "       'HistoryOfCancerInFamily', 'NumberOfMajorSurgeries', 'PremiumPrice'],\n",
            "      dtype='object')\n"
          ]
        }
      ]
    },
    {
      "cell_type": "code",
      "source": [
        "print(\"> Shape of the Dataset: \", dataset.shape, \"\\n\")\n",
        "print(\"> Information about Dataset:\")\n",
        "print(dataset.info(), \"\\n\")\n",
        "print(\"> Statistical summary of the Dataset:\")\n",
        "# print(dataset.describe().map(lambda x: round(x, 4)))\n",
        "print(dataset.describe().to_string(header=True))"
      ],
      "metadata": {
        "collapsed": true,
        "outputId": "95a466b8-529d-4e42-fd58-77b507b8d6a5",
        "colab": {
          "base_uri": "https://localhost:8080/"
        },
        "id": "ZW3HjieQAry2"
      },
      "execution_count": null,
      "outputs": [
        {
          "output_type": "stream",
          "name": "stdout",
          "text": [
            "> Shape of the Dataset:  (986, 11) \n",
            "\n",
            "> Information about Dataset:\n",
            "<class 'pandas.core.frame.DataFrame'>\n",
            "RangeIndex: 986 entries, 0 to 985\n",
            "Data columns (total 11 columns):\n",
            " #   Column                   Non-Null Count  Dtype\n",
            "---  ------                   --------------  -----\n",
            " 0   Age                      986 non-null    int64\n",
            " 1   Diabetes                 986 non-null    int64\n",
            " 2   BloodPressureProblems    986 non-null    int64\n",
            " 3   AnyTransplants           986 non-null    int64\n",
            " 4   AnyChronicDiseases       986 non-null    int64\n",
            " 5   Height                   986 non-null    int64\n",
            " 6   Weight                   986 non-null    int64\n",
            " 7   KnownAllergies           986 non-null    int64\n",
            " 8   HistoryOfCancerInFamily  986 non-null    int64\n",
            " 9   NumberOfMajorSurgeries   986 non-null    int64\n",
            " 10  PremiumPrice             986 non-null    int64\n",
            "dtypes: int64(11)\n",
            "memory usage: 84.9 KB\n",
            "None \n",
            "\n",
            "> Statistical summary of the Dataset:\n",
            "         Age  Diabetes  BloodPressureProblems  AnyTransplants  AnyChronicDiseases  Height  Weight  KnownAllergies  HistoryOfCancerInFamily  NumberOfMajorSurgeries  PremiumPrice\n",
            "count 986.00    986.00                 986.00          986.00              986.00  986.00  986.00          986.00                   986.00                  986.00        986.00\n",
            "mean   41.75      0.42                   0.47            0.06                0.18  168.18   76.95            0.22                     0.12                    0.67     24,336.71\n",
            "std    13.96      0.49                   0.50            0.23                0.38   10.10   14.27            0.41                     0.32                    0.75      6,248.18\n",
            "min    18.00      0.00                   0.00            0.00                0.00  145.00   51.00            0.00                     0.00                    0.00     15,000.00\n",
            "25%    30.00      0.00                   0.00            0.00                0.00  161.00   67.00            0.00                     0.00                    0.00     21,000.00\n",
            "50%    42.00      0.00                   0.00            0.00                0.00  168.00   75.00            0.00                     0.00                    1.00     23,000.00\n",
            "75%    53.00      1.00                   1.00            0.00                0.00  176.00   87.00            0.00                     0.00                    1.00     28,000.00\n",
            "max    66.00      1.00                   1.00            1.00                1.00  188.00  132.00            1.00                     1.00                    3.00     40,000.00\n"
          ]
        }
      ]
    },
    {
      "cell_type": "code",
      "source": [
        "# plt.figure(figsize=(10, 6))\n",
        "# Plot target distribution\n",
        "sns.histplot(dataset.iloc[:, -1], bins=30, kde=True)\n",
        "plt.title('Distribution of Last Column')\n",
        "plt.show()"
      ],
      "metadata": {
        "id": "_z7mUwRhXBoc",
        "outputId": "e577e031-8227-4339-ad6a-1932958ccbd3",
        "colab": {
          "base_uri": "https://localhost:8080/",
          "height": 472
        }
      },
      "execution_count": null,
      "outputs": [
        {
          "output_type": "display_data",
          "data": {
            "text/plain": [
              "<Figure size 640x480 with 1 Axes>"
            ],
            "image/png": "[encoded data removed]"
          },
          "metadata": {}
        }
      ]
    },
    {
      "cell_type": "code",
      "source": [
        "# Correlation Matrix Heatmap\n",
        "plt.figure(figsize=(10, 6))\n",
        "sns.heatmap(dataset[numerical_cols].corr(), annot=True, cmap='coolwarm')\n",
        "plt.title('Correlation Matrix \\n',fontsize=20,  fontweight=800)\n",
        "plt.show()"
      ],
      "metadata": {
        "id": "5bMrljUcI9zR",
        "outputId": "9d3ca36d-ce77-4521-c90d-9dac136bca8c",
        "colab": {
          "base_uri": "https://localhost:8080/",
          "height": 747
        }
      },
      "execution_count": null,
      "outputs": [
        {
          "output_type": "display_data",
          "data": {
            "text/plain": [
              "<Figure size 1000x600 with 2 Axes>"
            ],
            "image/png": "[encoded data removed]"
          },
          "metadata": {}
        }
      ]
    },
    {
      "cell_type": "markdown",
      "source": [
        "## Step-3:- Checking the Dataset:-"
      ],
      "metadata": {
        "id": "e0E0usXBAry4"
      }
    },
    {
      "cell_type": "markdown",
      "source": [
        "### Step-3.1: Checking any Duplicate Data and Handling them:-"
      ],
      "metadata": {
        "id": "PSX5IX9RAry5"
      }
    },
    {
      "cell_type": "code",
      "source": [
        "if dataset.duplicated().any():\n",
        "  dataset.drop_duplicates(inplace=True)\n",
        "  print(\"✅ Duplicate Data(or Identical Rows) found and Removed...\")\n",
        "else:\n",
        "    print(\"❌ No Duplicate Data(or Identical Rows) found...\")"
      ],
      "metadata": {
        "outputId": "1702d17a-5083-4ea4-aecd-626c0ba9a672",
        "colab": {
          "base_uri": "https://localhost:8080/"
        },
        "id": "XzvdrZlWAry5"
      },
      "execution_count": null,
      "outputs": [
        {
          "output_type": "stream",
          "name": "stdout",
          "text": [
            "❌ No Duplicate Data(or Identical Rows) found...\n"
          ]
        }
      ]
    },
    {
      "cell_type": "markdown",
      "source": [
        "### Step-3.2: Cheking any Missing Data and Handling them:-"
      ],
      "metadata": {
        "id": "FKBEjTdDAry6"
      }
    },
    {
      "cell_type": "code",
      "source": [
        "# Here from the module named impute of the library scikit-learn, we are using the SimpleImputer Class to Handle the Missing Values.\n",
        "from sklearn.impute import SimpleImputer\n",
        "\n",
        "missing_data_counts = dataset.isnull().sum() + dataset.isin(['', 'N/A', 'Unknown', 'NaN']).sum()\n",
        "\n",
        "# if dataset.isnull().values.any() or dataset.isin(['', 'NaN', 'N/A', 'Unknown']).any().any():\n",
        "if missing_data_counts.any():\n",
        "\n",
        "  categorical_missing_counts = dataset[categorical_cols].isnull().sum() + dataset[categorical_cols].isin(['', 'N/A', 'Unknown', 'NaN']).sum()\n",
        "  numerical_missing_counts = dataset[numerical_cols].isnull().sum()\n",
        "\n",
        "  # Replace \"Unknown\" with NaN in categorical columns\n",
        "  for col in categorical_cols:\n",
        "    dataset[col] = dataset[col].replace('Unknown', np.nan)\n",
        "\n",
        "\n",
        "  # Check if there are any missing values (categorical or numerical)\n",
        "  if categorical_missing_counts.any() or numerical_missing_counts.any():\n",
        "      # Print missing counts for categorical columns in the desired format\n",
        "      print(\"⚠️ Missing Data Found! Handling them...\\n\")\n",
        "      print(\"Missing Data Counts in Categorical Columns: \\n\", categorical_missing_counts)\n",
        "      print(\"\\n\")\n",
        "      print(\"Missing Data Counts in Numerical Columns: \\n\", numerical_missing_counts)\n",
        "      print(\"\\n\")\n",
        "\n",
        "      # Create imputers for categorical and numerical features\n",
        "      categorical_imputer = SimpleImputer(missing_values=np.nan, strategy='most_frequent')\n",
        "      numerical_imputer = SimpleImputer(missing_values=np.nan, strategy='mean')\n",
        "\n",
        "      # Apply imputers to the selected columns in X\n",
        "      if len(categorical_cols) > 0:\n",
        "        categorical_cols_for_impution = [col for col in categorical_cols if col != dataset.columns[-1]]\n",
        "        dataset[categorical_cols_for_impution] = categorical_imputer.fit_transform(dataset[categorical_cols_for_impution])\n",
        "\n",
        "      # Exclude the dependent variable column (last column) if it's numerical\n",
        "      numerical_cols_for_impution = [col for col in numerical_cols if col != dataset.columns[-1]]\n",
        "      if len(numerical_cols_for_impution) > 0:\n",
        "          dataset[numerical_cols_for_impution] = numerical_imputer.fit_transform(dataset[numerical_cols_for_impution])\n",
        "      # if len(numerical_cols) > 0:\n",
        "          # dataset[numerical_cols] = numerical_imputer.fit_transform(dataset[numerical_cols])\n",
        "      print(\"✅ Missing Data Handled Successfully...\")\n",
        "      # print(\"New Data with replaced missing values: \\n\", dataset.head(10).to_string(header=True))\n",
        "else:\n",
        "    print(\"❌ No missing data found...\")\n",
        "\n"
      ],
      "metadata": {
        "colab": {
          "base_uri": "https://localhost:8080/"
        },
        "outputId": "2e340d58-4541-45fe-bb18-07d2a8f128d1",
        "id": "vg_Slpg2Ary7"
      },
      "execution_count": null,
      "outputs": [
        {
          "output_type": "stream",
          "name": "stdout",
          "text": [
            "❌ No missing data found...\n"
          ]
        }
      ]
    },
    {
      "cell_type": "markdown",
      "source": [
        "### Step-3.3: Checking any Synonyms or Aliases and Handling them:-"
      ],
      "metadata": {
        "id": "-F0V-G0-Ary8"
      }
    },
    {
      "cell_type": "code",
      "source": [
        "# for col in dataset.columns:\n",
        "#   value_counts_dataset = dataset[col].value_counts().rename_axis('Unique Values: ').reset_index(name='Counts: ')\n",
        "\n",
        "#   print(f\"Column: \\t\\t'{col}'\")\n",
        "#   print(value_counts_dataset.T.to_string(header=False), \"\\n\")"
      ],
      "metadata": {
        "id": "rJwxtUSyAry8"
      },
      "execution_count": null,
      "outputs": []
    },
    {
      "cell_type": "markdown",
      "source": [
        "### Step-3.4: Checking for Stopwords and Stemming them:-"
      ],
      "metadata": {
        "id": "szLznVnf1W1h"
      }
    },
    {
      "cell_type": "code",
      "source": [
        "from nltk.corpus import stopwords\n",
        "from nltk.stem.porter import PorterStemmer\n",
        "\n",
        "if categorical_cols.any():\n",
        "\n",
        "  nltk.download('stopwords')\n",
        "\n",
        "  stop_words = set(stopwords.words('english'))\n",
        "  # stop_words = stop_words.remove('not')\n",
        "  # print(\"\\n Stop Words are: \", stop_words, \"\\n\")\n",
        "  def stemming(text):\n",
        "      words = text.lower().split()\n",
        "\n",
        "      stemmer = PorterStemmer()\n",
        "      stemmed_words = [stemmer.stem(word) for word in words if word not in stop_words]\n",
        "      return ' '.join(stemmed_words)  # Join stemmed words back into a string\n",
        "\n",
        "  # Apply the stemming function to the specified columns\n",
        "  for column in categorical_cols:\n",
        "      dataset[column] = dataset[column].astype(str).apply(stemming)\n",
        "\n",
        "  print(\"\\n ✅ Stemming Completed Successfully... \\n\")\n",
        "  # print(dataset.head().to_string(header=True))\n",
        "else:\n",
        "  print(\"❌ No Stemming Needed...\")"
      ],
      "metadata": {
        "id": "iMWNF_e5j0vb",
        "outputId": "52f8b757-bb11-45a5-9334-d5b635594ff0",
        "colab": {
          "base_uri": "https://localhost:8080/"
        }
      },
      "execution_count": null,
      "outputs": [
        {
          "output_type": "stream",
          "name": "stdout",
          "text": [
            "❌ No Stemming Needed...\n"
          ]
        }
      ]
    },
    {
      "cell_type": "markdown",
      "metadata": {
        "id": "kluQwU4vAry9"
      },
      "source": [
        "### Step-3.5: Checking any Categorical Data and Encoding them:-"
      ]
    },
    {
      "cell_type": "code",
      "source": [
        "# `sklearn.compose` is a module in scikit-learn (a popular Python machine learning library) used for combining different data transformations.\n",
        "# sklearn.preprocessing is a module within scikit-learn that provides tools for preparing your data for machine learning algorithms.\n",
        "# LabelEncoder is a specific class designed to convert categorical labels (like 'France', 'Spain', 'Germany') into numerical labels (like 0, 1, 2).\n",
        "\n",
        "import scipy.sparse\n",
        "from sklearn.compose import ColumnTransformer\n",
        "from sklearn.preprocessing import OneHotEncoder, LabelEncoder\n",
        "\n",
        "X = dataset.iloc[:, :-1]\n",
        "y = dataset.iloc[:, -1].values\n",
        "\n",
        "repeating_cols = []\n",
        "\n",
        "if categorical_cols.empty:\n",
        "  print(\"❌ No Encoding needed! No Categorical Columns Found...\")\n",
        "else:\n",
        "  for col in categorical_cols:\n",
        "      # Matrix of Feature\n",
        "      if col != dataset.columns[-1]:\n",
        "        print(f\"> String Values present in Column '{col}'.\")\n",
        "        # Check for repeating values within the categorical column\n",
        "        value_counts = dataset[col].value_counts()\n",
        "        repeating_values = value_counts[value_counts > 1].index.tolist()\n",
        "        if repeating_values:\n",
        "          repeating_cols.append(col)\n",
        "          # print(f\"\\t- Also, Categorical values found in column '{col}': {repeating_values}.\")\n",
        "          print(f\"\\t- Also, Categorical values found in column '{col}'.\")\n",
        "          print(f\"\\t✅ '{col}' is Encoded Successfully...\\n\")\n",
        "\n",
        "        else:\n",
        "          print(f\"\\t❌ But No Categorical values found in column '{col}'.\\n\")\n",
        "\n",
        "      # Dependent Variable/Output\n",
        "      if col == dataset.columns[-1]:\n",
        "        print(f\"> String Values present in Column '{col}'(Output Column).\")\n",
        "        # Check for repeating values within the categorical column\n",
        "        value_counts = dataset[col].value_counts()\n",
        "        repeating_values = value_counts[value_counts > 1].index.tolist()\n",
        "        if repeating_values:\n",
        "          # print(f\"\\t- Also, Categorical values found in column '{col}': {repeating_values}\")\n",
        "          print(f\"\\t- Also, Categorical values found in column '{col}'.\")\n",
        "          le = LabelEncoder()\n",
        "          y = le.fit_transform(dataset[col])\n",
        "          print(f\"\\t✅ '{col}' is Encoded Successfully...\\n\")\n",
        "        else:\n",
        "          print(f\"\\t❌ But No Categorical values found in column '{col}'.\\n\")\n",
        "\n",
        "  print(\"=> Repeating Columns in Matrix of Features(X): \", repeating_cols, \"\\n\")\n",
        "  if repeating_cols:\n",
        "    encoder = ColumnTransformer(transformers=[('encoder', OneHotEncoder(), repeating_cols)], remainder='passthrough')\n",
        "    encoder_transform = encoder.fit_transform(X)\n",
        "\n",
        "    # Conditional conversion to dense array\n",
        "    if scipy.sparse.issparse(encoder_transform):  # Check if sparse\n",
        "      X = encoder_transform.toarray()\n",
        "    else:\n",
        "      X = encoder_transform\n",
        "\n",
        "  else:\n",
        "    print(\"❌ No Repeating Columns found in Matrix of Features(X). \\n\")\n",
        "\n",
        "  # print(\"Matrix of Features(X): \\n\", pd.DataFrame(X).head().to_string(header=True))\n",
        "  # print(\"\\n\")\n",
        "  # print(\"Dependent Variable(y): \\n\", pd.DataFrame(y).head().to_string(header=False, index=False))\n"
      ],
      "metadata": {
        "colab": {
          "base_uri": "https://localhost:8080/"
        },
        "id": "iliWxO0n-9UQ",
        "outputId": "97ade1e0-48b8-486c-9698-8c12bf7ea46e"
      },
      "execution_count": null,
      "outputs": [
        {
          "output_type": "stream",
          "name": "stdout",
          "text": [
            "❌ No Encoding needed! No Categorical Columns Found...\n"
          ]
        }
      ]
    },
    {
      "cell_type": "markdown",
      "metadata": {
        "id": "qb_vcgm3qZKW"
      },
      "source": [
        "## Step-4: Split the Dataset into the Training set and Test set:-"
      ]
    },
    {
      "cell_type": "code",
      "source": [
        "from sklearn.model_selection import train_test_split\n",
        "\n",
        "X_train, X_test, y_train, y_test = train_test_split(X, y, test_size=0.2, random_state=42)\n",
        "\n",
        "print(\"✅ Data Splitted Successfully...\\n\")\n",
        "# print(\"Printing Training Sets: \")\n",
        "# print(\"> X_train: \\n\", X_train)\n",
        "# print(\"> X_test: \\n\", X_test, \"\\n\")\n",
        "\n",
        "# print(\"\\n\")\n",
        "\n",
        "# print(\"Printing Test Sets: \")\n",
        "# print(\"> y_train: \\n\", y_train)\n",
        "# print(\"> y_test: \\n\", y_test)"
      ],
      "metadata": {
        "id": "4ML-zBGmBkeI",
        "colab": {
          "base_uri": "https://localhost:8080/"
        },
        "outputId": "d7255920-8bbf-4b04-e90a-de29808060c6"
      },
      "execution_count": null,
      "outputs": [
        {
          "output_type": "stream",
          "name": "stdout",
          "text": [
            "✅ Data Splitted Successfully...\n",
            "\n"
          ]
        }
      ]
    },
    {
      "cell_type": "markdown",
      "metadata": {
        "id": "TpGqbS4TqkIR"
      },
      "source": [
        "## Step-5: Feature Scaling:-"
      ]
    },
    {
      "cell_type": "code",
      "source": [
        "\"\"\" Here we are not applying Feature Scaling in Dependent Variable (y), because there are only 0 and 1 values in y \"\"\"\n",
        "# StandardScaler class from scikit-learn, which is a tool for standardization and Normalization.\n",
        "from sklearn.preprocessing import StandardScaler\n",
        "\n",
        "scaler = StandardScaler()\n",
        "\n",
        "# Convert X_train and X_test to NumPy arrays if they are DataFrames\n",
        "X_train = X_train.to_numpy() if isinstance(X_train, pd.DataFrame) else X_train\n",
        "X_test = X_test.to_numpy() if isinstance(X_test, pd.DataFrame) else X_test\n",
        "\n",
        "# Iterate through columns of X_train and X_test\n",
        "for col in range(X_train.shape[1]):  # Use range to get column indices\n",
        "    # Check if all values in the column are 0 or 1\n",
        "    if np.all(np.isin(X_train[:, col], [0, 1])):\n",
        "        continue  # Skip scaling for this column\n",
        "    else:\n",
        "        # Reshape the column before scaling\n",
        "        X_train[:, col] = scaler.fit_transform(X_train[:, col].reshape(-1, 1)).flatten()\n",
        "        X_test[:, col] = scaler.transform(X_test[:, col].reshape(-1, 1)).flatten()\n",
        "\n",
        "print(\"✅ Feature Scaling is Done Successfully...\")\n",
        "\n",
        "# print(\"Printing Training Sets after Feature Scaling:\")\n",
        "# print(\"> X_train: \\n\", X_train)\n",
        "# print(\"\\n\")\n",
        "# print(\"Printing Test Sets after Feature Scaling:\")\n",
        "# print(\"> X_test: \\n\", X_test)\n",
        "# print(\"\\n\")\n",
        "# print(pd.DataFrame(X).head().to_string())"
      ],
      "metadata": {
        "id": "HKf1Or3_BlW1",
        "colab": {
          "base_uri": "https://localhost:8080/"
        },
        "outputId": "286a3874-1108-4685-c1ca-901b6250e810"
      },
      "execution_count": null,
      "outputs": [
        {
          "output_type": "stream",
          "name": "stdout",
          "text": [
            "✅ Feature Scaling is Done Successfully...\n"
          ]
        }
      ]
    },
    {
      "cell_type": "markdown",
      "source": [
        "# ***Step-B: Model Builing & Evaluation...***"
      ],
      "metadata": {
        "id": "4ibPqcgELO4w"
      }
    },
    {
      "cell_type": "code",
      "source": [
        "from sklearn.linear_model import LinearRegression, Ridge, Lasso, ElasticNet\n",
        "from sklearn.ensemble import RandomForestRegressor, GradientBoostingRegressor\n",
        "from sklearn.tree import DecisionTreeRegressor\n",
        "from sklearn.svm import SVR\n",
        "from sklearn.neighbors import KNeighborsRegressor\n",
        "from sklearn.metrics import r2_score, mean_squared_error, mean_absolute_error\n",
        "from sklearn.model_selection import cross_val_score\n",
        "from xgboost import XGBRegressor\n",
        "from lightgbm import LGBMRegressor\n",
        "\n",
        "models = {\n",
        "    LinearRegression(),\n",
        "    DecisionTreeRegressor(),\n",
        "    RandomForestRegressor(),\n",
        "    KNeighborsRegressor(),\n",
        "    SVR(),\n",
        "    GradientBoostingRegressor(),\n",
        "    XGBRegressor(),\n",
        "    # Ridge(),\n",
        "    # Lasso(),\n",
        "    # ElasticNet(),\n",
        "    # LGBMRegressor(n_estimators=100, learning_rate=0.1, max_depth=5),\n",
        "}\n",
        "\n",
        "for model in models:\n",
        "  model.fit(X_train, y_train)\n",
        "  y_pred = model.predict(X_test)\n",
        "\n",
        "  r2 = r2_score(y_test, y_pred)\n",
        "  adj_r2 = 1 - (1 - r2) * (len(y_test) - 1) / (len(y_test) - X_test.shape[1] - 1)\n",
        "  cv_score = cross_val_score(model, X_train, y_train, cv=5)\n",
        "  mse = mean_squared_error(y_test, y_pred)\n",
        "  rmse = np.sqrt(mse)\n",
        "  mae = mean_absolute_error(y_test, y_pred)\n",
        "\n",
        "  print(f\"✅ {model.__class__.__name__} is trained Sucessfully...\")\n",
        "  print(f\"-> {model.__class__.__name__}:-\")\n",
        "  print(f\"\\t R² Score:\\t\\t{r2:.2f}\")\n",
        "  print(f\"\\t Adj. R² Score: {adj_r2:.2f}\")\n",
        "  print(f\"\\t CV Score: \\t\\t{cv_score.mean()*100:.2f}%\")\n",
        "  print(f\"\\t MSE: \\t\\t\\t{mse:.2f}\")\n",
        "  print(f\"\\t RMSE: \\t\\t\\t{rmse:.2f}\")\n",
        "  print(f\"\\t MAE: \\t\\t\\t{mae:.2f}\")\n",
        "  print(\"\\n\")\n"
      ],
      "metadata": {
        "id": "srNH7MKCLO4x",
        "outputId": "54192a6e-6ab5-4cea-d82c-87cf156e27b2",
        "colab": {
          "base_uri": "https://localhost:8080/"
        }
      },
      "execution_count": null,
      "outputs": [
        {
          "output_type": "stream",
          "name": "stdout",
          "text": [
            "✅ LinearRegression is trained Sucessfully...\n",
            "-> LinearRegression:-\n",
            "\t R² Score:\t\t0.63\n",
            "\t Adj. R² Score: 0.61\n",
            "\t CV Score: \t\t49.21%\n",
            "\t MSE: \t\t\t15717897.24\n",
            "\t RMSE: \t\t\t3964.58\n",
            "\t MAE: \t\t\t2943.38\n",
            "\n",
            "\n",
            "✅ KNeighborsRegressor is trained Sucessfully...\n",
            "-> KNeighborsRegressor:-\n",
            "\t R² Score:\t\t0.57\n",
            "\t Adj. R² Score: 0.55\n",
            "\t CV Score: \t\t44.44%\n",
            "\t MSE: \t\t\t18311717.17\n",
            "\t RMSE: \t\t\t4279.22\n",
            "\t MAE: \t\t\t2942.42\n",
            "\n",
            "\n",
            "✅ RandomForestRegressor is trained Sucessfully...\n",
            "-> RandomForestRegressor:-\n",
            "\t R² Score:\t\t0.64\n",
            "\t Adj. R² Score: 0.62\n",
            "\t CV Score: \t\t53.89%\n",
            "\t MSE: \t\t\t15341570.77\n",
            "\t RMSE: \t\t\t3916.83\n",
            "\t MAE: \t\t\t2500.13\n",
            "\n",
            "\n",
            "✅ SVR is trained Sucessfully...\n",
            "-> SVR:-\n",
            "\t R² Score:\t\t-0.05\n",
            "\t Adj. R² Score: -0.11\n",
            "\t CV Score: \t\t-3.71%\n",
            "\t MSE: \t\t\t44877090.12\n",
            "\t RMSE: \t\t\t6699.04\n",
            "\t MAE: \t\t\t5313.26\n",
            "\n",
            "\n",
            "✅ GradientBoostingRegressor is trained Sucessfully...\n",
            "-> GradientBoostingRegressor:-\n",
            "\t R² Score:\t\t0.70\n",
            "\t Adj. R² Score: 0.68\n",
            "\t CV Score: \t\t59.29%\n",
            "\t MSE: \t\t\t12988685.84\n",
            "\t RMSE: \t\t\t3603.98\n",
            "\t MAE: \t\t\t2464.90\n",
            "\n",
            "\n",
            "✅ XGBRegressor is trained Sucessfully...\n",
            "-> XGBRegressor:-\n",
            "\t R² Score:\t\t0.59\n",
            "\t Adj. R² Score: 0.56\n",
            "\t CV Score: \t\t45.50%\n",
            "\t MSE: \t\t\t17630288.00\n",
            "\t RMSE: \t\t\t4198.84\n",
            "\t MAE: \t\t\t2821.94\n",
            "\n",
            "\n",
            "✅ DecisionTreeRegressor is trained Sucessfully...\n",
            "-> DecisionTreeRegressor:-\n",
            "\t R² Score:\t\t0.55\n",
            "\t Adj. R² Score: 0.52\n",
            "\t CV Score: \t\t47.50%\n",
            "\t MSE: \t\t\t19363421.33\n",
            "\t RMSE: \t\t\t4400.39\n",
            "\t MAE: \t\t\t2541.46\n",
            "\n",
            "\n"
          ]
        }
      ]
    },
    {
      "cell_type": "markdown",
      "source": [
        "# ***Step-C: Saving the Model & Testing It...***"
      ],
      "metadata": {
        "id": "OyKDXbZPLO4y"
      }
    },
    {
      "cell_type": "markdown",
      "source": [
        "## Step-1: Saving the Model(.sav):-"
      ],
      "metadata": {
        "id": "5wXV-ntdLO4y"
      }
    },
    {
      "cell_type": "code",
      "source": [
        "import pickle\n",
        "\n",
        "# Train and save models\n",
        "for model in models:\n",
        "    # model.fit(X_train, y_train)\n",
        "\n",
        "    # Save each model with its name\n",
        "    model_filename = f\"{model.__class__.__name__}.sav\"\n",
        "    pickle.dump(model, open(model_filename, \"wb\"))\n",
        "\n",
        "    print(f\"✅ Model saved: {model_filename}\")"
      ],
      "metadata": {
        "id": "3p8QgiqoLO4y",
        "outputId": "1cb01e76-8aed-428f-f18a-26ea0398615d",
        "colab": {
          "base_uri": "https://localhost:8080/"
        }
      },
      "execution_count": null,
      "outputs": [
        {
          "output_type": "stream",
          "name": "stdout",
          "text": [
            "✅ Model saved: LinearRegression.sav\n",
            "✅ Model saved: KNeighborsRegressor.sav\n",
            "✅ Model saved: RandomForestRegressor.sav\n",
            "✅ Model saved: SVR.sav\n",
            "✅ Model saved: GradientBoostingRegressor.sav\n",
            "✅ Model saved: XGBRegressor.sav\n",
            "✅ Model saved: DecisionTreeRegressor.sav\n"
          ]
        }
      ]
    },
    {
      "cell_type": "markdown",
      "source": [
        "## Step-2: Predicting and Testing the Model:-"
      ],
      "metadata": {
        "id": "LTFD2MJYLO4y"
      }
    },
    {
      "source": [
        "correct_predictions = 0\n",
        "max_correct_predictions = 0\n",
        "model_predictions = {} # dictionary to store model and their correct predictions\n",
        "\n",
        "random_input = np.random.randint(2, 5)\n",
        "# random_input = np.random.randint(2, 10)\n",
        "print(\"Number of Inputs for Predction: \", random_input, \"\\n\")\n",
        "\n",
        "for i in range(random_input):\n",
        "\n",
        "  sample_input = pd.DataFrame(X_train).iloc[i].values.reshape(1, -1)  # Convert a row to an array\n",
        "  sample_output = round(y_train[i], 2)\n",
        "\n",
        "  print(\"Before Predicting, Sample Data & Output Sales are:-\")\n",
        "  print(\"> Sample Data: \", sample_input)\n",
        "  print(\"> Output: \",sample_output, \"\\n\")\n",
        "\n",
        "  for model in models:\n",
        "    model = pickle.load(open(f\"{model.__class__.__name__}.sav\", \"rb\"))\n",
        "    model_filename = f\"{model.__class__.__name__}.sav\"\n",
        "    print(f\"-> {model.__class__.__name__}:-\")\n",
        "\n",
        "    prediction = model.predict(sample_input)\n",
        "    # print(\" - Predicted Sales:\", prediction[0])\n",
        "    rounded_prediction = round(prediction[0], 2)\n",
        "    print(f\" - Predicted Sales: {rounded_prediction:.2f}\")\n",
        "\n",
        "    if rounded_prediction == sample_output:\n",
        "        correct_predictions += 1\n",
        "        print(\"\\t✅ Nice Work! your Prediction is correct...\\n\")\n",
        "        # increment correct prediction count for the model in the dictionary\n",
        "        model_predictions[model.__class__.__name__] = model_predictions.get(model.__class__.__name__, 0) + 1\n",
        "    else:\n",
        "        print(\"\\t❌ Oops! your Prediction is incorrect...\\n\")\n",
        "\n",
        "  print(\"=\"*75, \"\\n\")"
      ],
      "cell_type": "code",
      "metadata": {
        "id": "43VeoJRYLO4z",
        "outputId": "210cc5ea-a9f0-4fee-a6c3-66777f9a4a19",
        "colab": {
          "base_uri": "https://localhost:8080/"
        }
      },
      "execution_count": null,
      "outputs": [
        {
          "output_type": "stream",
          "name": "stdout",
          "text": [
            "Number of Inputs for Predction:  2 \n",
            "\n",
            "Before Predicting, Sample Data & Output Sales are:-\n",
            "> Sample Data:  [[-1  0  0  0  0 -2 -1  0  0  0]]\n",
            "> Output:  15000 \n",
            "\n",
            "-> LinearRegression:-\n",
            " - Predicted Sales: 15492.97\n",
            "\t❌ Oops! your Prediction is incorrect...\n",
            "\n",
            "-> KNeighborsRegressor:-\n",
            " - Predicted Sales: 15000.00\n",
            "\t✅ Nice Work! your Prediction is correct...\n",
            "\n",
            "-> RandomForestRegressor:-\n",
            " - Predicted Sales: 15005.00\n",
            "\t❌ Oops! your Prediction is incorrect...\n",
            "\n",
            "-> SVR:-\n",
            " - Predicted Sales: 23024.83\n",
            "\t❌ Oops! your Prediction is incorrect...\n",
            "\n",
            "-> GradientBoostingRegressor:-\n",
            " - Predicted Sales: 15006.44\n",
            "\t❌ Oops! your Prediction is incorrect...\n",
            "\n",
            "-> XGBRegressor:-\n",
            " - Predicted Sales: 14888.92\n",
            "\t❌ Oops! your Prediction is incorrect...\n",
            "\n",
            "-> DecisionTreeRegressor:-\n",
            " - Predicted Sales: 15000.00\n",
            "\t✅ Nice Work! your Prediction is correct...\n",
            "\n",
            "=========================================================================== \n",
            "\n",
            "Before Predicting, Sample Data & Output Sales are:-\n",
            "> Sample Data:  [[0 0 1 0 0 0 0 0 0 0]]\n",
            "> Output:  34000 \n",
            "\n",
            "-> LinearRegression:-\n",
            " - Predicted Sales: 23356.82\n",
            "\t❌ Oops! your Prediction is incorrect...\n",
            "\n",
            "-> KNeighborsRegressor:-\n",
            " - Predicted Sales: 25200.00\n",
            "\t❌ Oops! your Prediction is incorrect...\n",
            "\n",
            "-> RandomForestRegressor:-\n",
            " - Predicted Sales: 23730.47\n",
            "\t❌ Oops! your Prediction is incorrect...\n",
            "\n",
            "-> SVR:-\n",
            " - Predicted Sales: 23018.67\n",
            "\t❌ Oops! your Prediction is incorrect...\n",
            "\n",
            "-> GradientBoostingRegressor:-\n",
            " - Predicted Sales: 23911.70\n",
            "\t❌ Oops! your Prediction is incorrect...\n",
            "\n",
            "-> XGBRegressor:-\n",
            " - Predicted Sales: 23904.50\n",
            "\t❌ Oops! your Prediction is incorrect...\n",
            "\n",
            "-> DecisionTreeRegressor:-\n",
            " - Predicted Sales: 23739.13\n",
            "\t❌ Oops! your Prediction is incorrect...\n",
            "\n",
            "=========================================================================== \n",
            "\n"
          ]
        }
      ]
    },
    {
      "cell_type": "markdown",
      "source": [
        "## Step-3: Selecting the Perfect Model for this Dataset:-"
      ],
      "metadata": {
        "id": "VMa62w9bLbkO"
      }
    },
    {
      "source": [
        "# Instead of using max, we'll iterate and check for at least one correct prediction\n",
        "models_with_correct_predictions = []  # List to store models with at least one correct prediction\n",
        "\n",
        "for model_name, correct_count in model_predictions.items():\n",
        "    if correct_count >= 1:  # Check for at least one correct prediction\n",
        "        models_with_correct_predictions.append(model_name)\n",
        "\n",
        "# Print the results\n",
        "if models_with_correct_predictions:\n",
        "    print(\"The following Models achieved at least one correct Prediction:\")\n",
        "    for model_name in models_with_correct_predictions:\n",
        "        print(f\"\\t- ✅ '{model_name}':\\n\\t\\t\\t '{model_predictions[model_name]}' out of {random_input} correct predictions\")\n",
        "else:\n",
        "    print(\"No models achieved any correct predictions on the samples.\")"
      ],
      "cell_type": "code",
      "metadata": {
        "id": "TWHQXwR8nIhh",
        "outputId": "0ae8d632-74ff-49e1-871a-2b47f432bb5b",
        "colab": {
          "base_uri": "https://localhost:8080/"
        }
      },
      "execution_count": null,
      "outputs": [
        {
          "output_type": "stream",
          "name": "stdout",
          "text": [
            "The following Models achieved at least one correct Prediction:\n",
            "\t- ✅ 'KNeighborsRegressor':\n",
            "\t\t\t '1' out of 2 correct predictions\n",
            "\t- ✅ 'DecisionTreeRegressor':\n",
            "\t\t\t '1' out of 2 correct predictions\n"
          ]
        }
      ]
    },
    {
      "source": [
        "# Instead of using max, we'll iterate and check for perfect predictions\n",
        "best_models = []  # List to store all perfectly predicting models\n",
        "\n",
        "for model_name, correct_count in model_predictions.items():\n",
        "    if correct_count == random_input:  # Assuming you're testing on 5 samples\n",
        "        best_models.append(model_name)\n",
        "\n",
        "# Print the results\n",
        "if best_models:\n",
        "    print(\"The following Models achieved all perfect Predictions:\")\n",
        "    for model_name in best_models:\n",
        "      print(f\"\\t- ✅ '{model_name}: \\n\\t\\t\\t with '{model_predictions[model_name]}' correct predictions\")\n",
        "else:\n",
        "    print(\"No models achieved perfect predictions on all samples.\")"
      ],
      "cell_type": "code",
      "metadata": {
        "id": "WC23VxLpz1U3",
        "outputId": "ecaead48-7be3-4bb6-c851-6a6cb4df2c93",
        "colab": {
          "base_uri": "https://localhost:8080/"
        }
      },
      "execution_count": null,
      "outputs": [
        {
          "output_type": "stream",
          "name": "stdout",
          "text": [
            "No models achieved perfect predictions on all samples.\n"
          ]
        }
      ]
    }
  ]
}